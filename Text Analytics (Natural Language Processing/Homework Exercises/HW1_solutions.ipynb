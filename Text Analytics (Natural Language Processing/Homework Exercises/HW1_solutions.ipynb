{
 "cells": [
  {
   "cell_type": "markdown",
   "metadata": {},
   "source": [
    "### Import dataset"
   ]
  },
  {
   "cell_type": "code",
   "execution_count": 127,
   "metadata": {},
   "outputs": [],
   "source": [
    "import nltk\n",
    "import math\n",
    "import re\n",
    "import pprint\n",
    "import numpy as np\n",
    "import matplotlib.pyplot as plt\n",
    "corpusdir = \"/home/tgeorgiopoulos/Dropbox/MSc Data Science/Year2_2/Text Analytics/ta_exercises_2018_19/en\"\n",
    "corpus = nltk.corpus.PlaintextCorpusReader(corpusdir, '.*')\n",
    "corpus = corpus.raw()[:1000000]"
   ]
  },
  {
   "cell_type": "markdown",
   "metadata": {},
   "source": [
    "### Bigram and Trigram model"
   ]
  },
  {
   "cell_type": "markdown",
   "metadata": {},
   "source": [
    "#### 1. Convert corpus to  sentences and tokenize them"
   ]
  },
  {
   "cell_type": "code",
   "execution_count": 128,
   "metadata": {},
   "outputs": [
    {
     "name": "stdout",
     "output_type": "stream",
     "text": [
      "The corpus has 6389 sentences and 13731 distinct words (tokens).\n"
     ]
    }
   ],
   "source": [
    "# Convert to lowercase all sentences\n",
    "sentences = nltk.sent_tokenize(corpus)\n",
    "sentences = [x.lower() for x in sentences]\n",
    "\n",
    "# Remove tags\n",
    "for i in range(0,len(sentences)):\n",
    "    sentences[i] = re.compile(r'(?s)<.*?>').sub('', sentences[i])\n",
    "\n",
    "# Tokenize sentences\n",
    "whitespace_wt = nltk.WhitespaceTokenizer()\n",
    "sentences_tokenized = []\n",
    "for sent in sentences:\n",
    "    sent_tok = whitespace_wt.tokenize(sent)\n",
    "    sentences_tokenized.append(sent_tok)\n",
    "    \n",
    "# Extract tokens from tokenized sentences\n",
    "tokens = []\n",
    "for sent in sentences_tokenized:\n",
    "    for token in sent:\n",
    "        tokens.append(token)\n",
    "\n",
    "# Compute tokens' frequencies and vocab size\n",
    "fdist = nltk.FreqDist(tokens)\n",
    "vocab_size = len(set(tokens))\n",
    "\n",
    "print(\"The corpus has\",len(sentences),\"sentences and\",vocab_size,\"distinct words (tokens).\")"
   ]
  },
  {
   "cell_type": "markdown",
   "metadata": {},
   "source": [
    "#### 2. Adding pseudo-tokens (*start*,*end*) in each sentence and replace OOV words"
   ]
  },
  {
   "cell_type": "code",
   "execution_count": 129,
   "metadata": {},
   "outputs": [
    {
     "name": "stdout",
     "output_type": "stream",
     "text": [
      "After replacing OOV (out of vocabulary) words, there are now 1788 distinct words (tokens).\n"
     ]
    }
   ],
   "source": [
    "# Replace out of vocabulary words\n",
    "for i in range(0,len(sentences_tokenized)):\n",
    "    for j in range(0,len(sentences_tokenized[i])):\n",
    "        if fdist[sentences_tokenized[i][j]] < 10:\n",
    "            sentences_tokenized[i][j] = '*UNK*' \n",
    "\n",
    "# Tokenize the converted sentences\n",
    "tokens = []\n",
    "for sent in sentences_tokenized:\n",
    "    for token in sent:\n",
    "        tokens.append(token)\n",
    "\n",
    "# Compute new tokens' frequencies and vocab size\n",
    "fdist = nltk.FreqDist(tokens)\n",
    "vocab_size = len(set(tokens))\n",
    "\n",
    "print(\"After replacing OOV (out of vocabulary) words, there are now\",vocab_size,\"distinct words (tokens).\")"
   ]
  },
  {
   "cell_type": "markdown",
   "metadata": {},
   "source": [
    "#### 3. Split in Training, Held-Out, and Test set"
   ]
  },
  {
   "cell_type": "code",
   "execution_count": 130,
   "metadata": {},
   "outputs": [],
   "source": [
    "split_1 = int(0.8 * len(sentences_tokenized))\n",
    "split_2 = int(0.9 * len(sentences_tokenized))\n",
    "sentences_tok_train = sentences_tokenized[:split_1]\n",
    "sentences_tok_held_out = sentences_tokenized[split_1:split_2]\n",
    "sentences_tok_test = sentences_tokenized[split_2:]"
   ]
  },
  {
   "cell_type": "markdown",
   "metadata": {},
   "source": [
    "#### 4. Training the model"
   ]
  },
  {
   "cell_type": "code",
   "execution_count": 131,
   "metadata": {},
   "outputs": [],
   "source": [
    "# Adding *start* and *end* words for bigrams\n",
    "sentences_tok_train_bigram = sentences_tok_train.copy()\n",
    "for i in range(0,len(sentences_tok_train)):\n",
    "    sentences_tok_train_bigram[i] = ['*start*'] + sentences_tok_train[i] + ['*end*']\n",
    "\n",
    "# Compute bigram frequencies for training set          \n",
    "bigram_counter = nltk.collections.Counter()\n",
    "for words in sentences_tok_train_bigram:\n",
    "    bigram_counter.update([gram for gram in nltk.bigrams(words)])\n",
    "    \n",
    "# Adding *start* and *end* words for trigrams\n",
    "sentences_tok_train_trigram = sentences_tok_train.copy()\n",
    "for i in range(0,len(sentences_tok_train)):\n",
    "    sentences_tok_train_trigram[i] = ['*start1*'] + ['*start2*'] + sentences_tok_train[i] + ['*end1*'] + ['*end2*']\n",
    "\n",
    "# Compute trigram frequencies for training set \n",
    "trigram_counter = nltk.collections.Counter()\n",
    "for words in sentences_tok_train_trigram:\n",
    "    trigram_counter.update([gram for gram in nltk.trigrams(words)])"
   ]
  },
  {
   "cell_type": "markdown",
   "metadata": {},
   "source": [
    "#### 5. Hyper parameter tuning on held-out set"
   ]
  },
  {
   "cell_type": "code",
   "execution_count": 132,
   "metadata": {},
   "outputs": [
    {
     "data": {
      "image/png": "[encoded data removed]",
      "text/plain": [
       "<Figure size 432x288 with 1 Axes>"
      ]
     },
     "metadata": {
      "needs_background": "light"
     },
     "output_type": "display_data"
    },
    {
     "name": "stdout",
     "output_type": "stream",
     "text": [
      "The best alpha for bigram model is 0.01210\n",
      "The best alpha for trigram model is 0.00260\n"
     ]
    }
   ],
   "source": [
    "# Find the best alpha on a held-out dataset\n",
    "alpha_list = list(np.arange(0.1 / (10 ** 2),0.1,0.1 / (10 ** 3)))\n",
    "\n",
    "# Calculate entropies for bigrams and trigrams for different alpha values\n",
    "entropy_values_bigram = []\n",
    "entropy_values_trigram = []\n",
    "for alpha in alpha_list:\n",
    "    sum_prob_bigram = 0\n",
    "    bigram_cnt = 0\n",
    "    sum_prob_trigram = 0\n",
    "    trigram_cnt = 0\n",
    "    for sent in sentences_tok_held_out:\n",
    "        sent_b = ['*start*'] + sent + ['*end*']\n",
    "        sent_t = ['*start1*'] + ['*start2*'] +sent + ['*end1*'] + ['*end2*']\n",
    "        for idx in range(1,len(sent_b)): \n",
    "            # bigram computations\n",
    "            bigram_prob = (bigram_counter[(sent_b[idx-1], sent_b[idx])] +alpha)/ \\\n",
    "                          (fdist[(sent_b[idx-1])] + alpha*vocab_size)\n",
    "            sum_prob_bigram += math.log2(bigram_prob)\n",
    "            bigram_cnt+=1\n",
    "        for idx in range(2,len(sent_t)):\n",
    "            # trigram computations\n",
    "            trigram_prob = (trigram_counter[(sent_t[idx-2],sent_t[idx-1], sent_t[idx])] +alpha)/ \\\n",
    "                           (bigram_counter[(sent_t[idx-2],sent_t[idx-1])] + alpha*vocab_size)\n",
    "            sum_prob_trigram += math.log2(trigram_prob)\n",
    "            trigram_cnt+=1\n",
    "    entropy_values_bigram.append(-sum_prob_bigram / bigram_cnt)\n",
    "    entropy_values_trigram.append(-sum_prob_trigram / trigram_cnt)\n",
    "\n",
    "    \n",
    "# These alphas correspond to the minimum entropies\n",
    "alpha_bigram = alpha_list[entropy_values_bigram.index(min(entropy_values_bigram))]\n",
    "alpha_trigram = alpha_list[entropy_values_trigram.index(min(entropy_values_trigram))]\n",
    "\n",
    "# Plot entropy - alpha\n",
    "plt.plot(alpha_list, entropy_values_bigram,label=\"bigram\")\n",
    "plt.ylabel('entropy')\n",
    "plt.xlabel('alpha')\n",
    "plt.title('Alpha VS Entropy')\n",
    "plt.plot(alpha_list, entropy_values_trigram,label=\"trigram\")\n",
    "plt.legend(loc='best')\n",
    "plt.show()\n",
    "\n",
    "print(\"The best alpha for bigram model is {0:.5f}\".format(alpha_bigram))\n",
    "print(\"The best alpha for trigram model is {0:.5f}\".format(alpha_trigram))"
   ]
  },
  {
   "cell_type": "code",
   "execution_count": 133,
   "metadata": {},
   "outputs": [
    {
     "data": {
      "image/png": "[encoded data removed]",
      "text/plain": [
       "<Figure size 432x288 with 1 Axes>"
      ]
     },
     "metadata": {
      "needs_background": "light"
     },
     "output_type": "display_data"
    },
    {
     "name": "stdout",
     "output_type": "stream",
     "text": [
      "The best lamda for interpolated model is 0.000\n"
     ]
    }
   ],
   "source": [
    "# Find the best lambdas for interpolation\n",
    "lamda_list = list(np.arange(0,1,0.01))\n",
    "\n",
    "entropy_values_interpolation = []\n",
    "for lamda in lamda_list:\n",
    "    sum_prob_inter = 0\n",
    "    ngram_cnt = 0\n",
    "    for sent in sentences_tok_held_out:\n",
    "        sum_prob_inter_bigram = 0\n",
    "        sum_prob_inter_trigram = 0\n",
    "        sent_b = ['*start*'] + sent + ['*end*']\n",
    "        sent_t = ['*start1*'] + ['*start2*'] +sent + ['*end1*'] + ['*end2*']\n",
    "        for idx in range(1,len(sent_b)):\n",
    "            # bigram computations\n",
    "            bigram_prob = (bigram_counter[(sent_b[idx-1], sent_b[idx])] +alpha_bigram) / \\\n",
    "                          (fdist[sent_b[idx-1]] + alpha_bigram*vocab_size)\n",
    "            sum_prob_inter_bigram += (1-lamda) * math.log2(bigram_prob)\n",
    "            ngram_cnt+=1 \n",
    "        for idx in range(2,len(sent_t)):\n",
    "            trigram_prob = (trigram_counter[(sent_t[idx-2],sent_t[idx-1],sent_t[idx])]+alpha_trigram) / \\\n",
    "                           (bigram_counter[(sent_t[idx-2],sent_t[idx-1])] + alpha_trigram*vocab_size)\n",
    "            sum_prob_inter_trigram += lamda * math.log2(trigram_prob)\n",
    "            \n",
    "        sum_prob_inter += sum_prob_inter_bigram + sum_prob_inter_trigram\n",
    "    entropy_values_interpolation.append(-sum_prob_inter / ngram_cnt)  \n",
    "    \n",
    "# Plot entropy - lamda\n",
    "plt.plot(lamda_list, entropy_values_interpolation)\n",
    "plt.ylabel('entropy')\n",
    "plt.xlabel('lamda')\n",
    "plt.title('Lamda VS Entropy')\n",
    "plt.show()\n",
    "\n",
    "# This lamda corresponds to the minimum entropies\n",
    "lamda = lamda_list[entropy_values_interpolation.index(min(entropy_values_interpolation))]\n",
    "print(\"The best lamda for interpolated model is {0:.3f}\".format(lamda))"
   ]
  },
  {
   "cell_type": "markdown",
   "metadata": {},
   "source": [
    "#### 6. Estimate language cross-entropy and perplexity on the test set"
   ]
  },
  {
   "cell_type": "code",
   "execution_count": 134,
   "metadata": {},
   "outputs": [
    {
     "name": "stdout",
     "output_type": "stream",
     "text": [
      "The Cross Entropy for the bigram model 6.497\n",
      "The perplexity for the bigram model is 90.320\n",
      "The Cross Entropy for the trigram model 6.878\n",
      "The perplexity for the trigram model is 117.621\n"
     ]
    }
   ],
   "source": [
    "# Test set evaluations\n",
    "sum_prob_bigram = 0\n",
    "sum_prob_trigram = 0\n",
    "sum_prob_inter = 0\n",
    "bigram_cnt = 0\n",
    "trigram_cnt = 0\n",
    "ngram_cnt = 0\n",
    "for sent in sentences_tok_test:\n",
    "    sent_b = ['*start*'] + sent + ['*end*']\n",
    "    sent_t = ['*start1*'] + ['*start2*'] +sent + ['*end1*'] + ['*end2*']\n",
    "    for idx in range(1,len(sent_b)): \n",
    "        # bigram computations\n",
    "        bigram_prob = (bigram_counter[(sent_b[idx-1], sent_b[idx])] +alpha_bigram)/ \\\n",
    "                      (fdist[(sent_b[idx-1])] + alpha_bigram*vocab_size)\n",
    "        sum_prob_bigram += math.log2(bigram_prob)\n",
    "        bigram_cnt+=1\n",
    "    for idx in range(2,len(sent_t)):           \n",
    "        # trigram computations\n",
    "        trigram_prob = (trigram_counter[(sent_t[idx-2],sent_t[idx-1],sent_t[idx])] +alpha_trigram)/ \\\n",
    "                       (bigram_counter[(sent_t[idx-1],sent_t[idx])] + alpha_trigram*vocab_size)\n",
    "        sum_prob_trigram += math.log2(trigram_prob)\n",
    "        trigram_cnt+=1\n",
    "        \n",
    "# Compute entropies and perplexities\n",
    "HC_bigram = -sum_prob_bigram / bigram_cnt\n",
    "perpl_bigram = math.pow(2,HC_bigram)\n",
    "HC_trigram = -sum_prob_trigram / trigram_cnt\n",
    "perpl_trigram = math.pow(2,HC_trigram)\n",
    "\n",
    "print(\"The Cross Entropy for the bigram model {0:.3f}\".format(HC_bigram))\n",
    "print(\"The perplexity for the bigram model is {0:.3f}\".format(perpl_bigram))\n",
    "print(\"The Cross Entropy for the trigram model {0:.3f}\".format(HC_trigram))\n",
    "print(\"The perplexity for the trigram model is {0:.3f}\".format(perpl_trigram))"
   ]
  }
 ],
 "metadata": {
  "kernelspec": {
   "display_name": "Python 3",
   "language": "python",
   "name": "python3"
  },
  "varInspector": {
   "cols": {
    "lenName": 16,
    "lenType": 16,
    "lenVar": 40
   },
   "kernels_config": {
    "python": {
     "delete_cmd_postfix": "",
     "delete_cmd_prefix": "del ",
     "library": "var_list.py",
     "varRefreshCmd": "print(var_dic_list())"
    },
    "r": {
     "delete_cmd_postfix": ") ",
     "delete_cmd_prefix": "rm(",
     "library": "var_list.r",
     "varRefreshCmd": "cat(var_dic_list()) "
    }
   },
   "types_to_exclude": [
    "module",
    "function",
    "builtin_function_or_method",
    "instance",
    "_Feature"
   ],
   "window_display": false
  }
 },
 "nbformat": 4,
 "nbformat_minor": 2
}
