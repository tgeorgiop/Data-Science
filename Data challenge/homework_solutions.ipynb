{
 "cells": [
  {
   "cell_type": "code",
   "execution_count": 75,
   "metadata": {},
   "outputs": [],
   "source": [
    "import numpy as np\n",
    "import os\n",
    "import csv\n",
    "import zipfile\n",
    "from sklearn.feature_extraction.text import TfidfVectorizer\n",
    "import networkx as nx\n",
    "import numpy as np\n",
    "from sklearn.linear_model import LogisticRegression\n",
    "from sklearn.model_selection import train_test_split\n",
    "from ge import DeepWalk, SDNE, LINE\n",
    "from sklearn.naive_bayes import MultinomialNB\n",
    "import re\n",
    "from sklearn.ensemble import RandomForestClassifier\n",
    "from gensim.models.wrappers import FastText\n",
    "import nltk\n",
    "from nltk.corpus import stopwords\n",
    "import warnings\n",
    "import sklearn.exceptions\n",
    "warnings.filterwarnings(\"ignore\", category=sklearn.exceptions.UndefinedMetricWarning)\n",
    "warnings.simplefilter(action='ignore', category=FutureWarning)\n",
    "from keras.models import Sequential\n",
    "from keras.callbacks import ModelCheckpoint\n",
    "from keras_tqdm import TQDMNotebookCallback\n",
    "from keras.layers.core import Dense, Dropout\n",
    "from keras.optimizers import Adam\n",
    "from keras import backend as K\n",
    "from sklearn.preprocessing import LabelBinarizer"
   ]
  },
  {
   "cell_type": "code",
   "execution_count": 76,
   "metadata": {},
   "outputs": [],
   "source": [
    "train_hosts = list()\n",
    "y_train = list()\n",
    "with open(\"../data/train.csv\", 'r') as f:\n",
    "    for line in f:\n",
    "        l = line.split(',')\n",
    "        train_hosts.append(l[0])\n",
    "        y_train.append(l[1][:-1])\n",
    "\n",
    "test_hosts = list()\n",
    "with open(\"../data/test.csv\", 'r') as f:\n",
    "    for line in f:\n",
    "        l = line.split(',')\n",
    "        test_hosts.append(l[0])\n",
    "\n",
    "\n",
    "text = dict()\n",
    "filenames = os.listdir('/home/tgeorgiopoulos/Desktop/Data_Challenge/data/domains/')\n",
    "for filename in filenames:\n",
    "    if filename[-4:] == '.zip':\n",
    "        z = zipfile.ZipFile('../data/domains/'+filename)\n",
    "        contents = z.namelist()\n",
    "        text[filename[:-4]] = ''\n",
    "        for c in contents:\n",
    "            f = z.open(c)\n",
    "            data = f.read()\n",
    "            text[filename[:-4]] += data.decode('utf16')\n",
    "            f.close()\n",
    "\n",
    "train_data = list()\n",
    "pos_list_train = list()\n",
    "for host in train_hosts:\n",
    "    if host in text:\n",
    "        train_data.append(text[host])\n",
    "    else:\n",
    "        pos_list_train.append([i for i,x in enumerate(train_hosts) if x == host][0]) # find the position to remove the entry\n",
    "\n",
    "                \n",
    "y_train_without_text = list( y_train[i] for i in pos_list_train )\n",
    "y_train_with_text = list( y_train[i] for i in range(0,len(y_train)) if i not in pos_list_train )\n",
    "train_hosts_without_text = list( train_hosts[i] for i in pos_list_train )\n",
    "train_hosts_with_text = list( train_hosts[i] for i in range(0,len(train_hosts)) if i not in pos_list_train )\n",
    "\n",
    "\n",
    "# Read webpages of the test set\n",
    "test_data = list()\n",
    "pos_list_test = list()\n",
    "for host in test_hosts:\n",
    "    if host in text:\n",
    "        test_data.append(text[host])\n",
    "    else:\n",
    "        pos_list_test.append([i for i,x in enumerate(test_hosts) if x == host][0])\n",
    "\n",
    "        \n",
    "test_hosts_without_text = list( test_hosts[i] for i in pos_list_test )\n",
    "test_hosts_with_text = list( test_hosts[i] for i in range(0,len(test_hosts)) if i not in pos_list_test )"
   ]
  },
  {
   "cell_type": "markdown",
   "metadata": {},
   "source": [
    "## 1.) Nodes with text and graph"
   ]
  },
  {
   "cell_type": "markdown",
   "metadata": {},
   "source": [
    "### a.) Using only text information"
   ]
  },
  {
   "cell_type": "code",
   "execution_count": 77,
   "metadata": {},
   "outputs": [],
   "source": [
    "# We load the greek embeddings from AUEB\n",
    "fasttext = FastText.load_fasttext_format('../data/grcorpus_def.bin')"
   ]
  },
  {
   "cell_type": "code",
   "execution_count": 78,
   "metadata": {},
   "outputs": [],
   "source": [
    "# We concatenate 2 lists of greek stopwords\n",
    "stop_words_1 = set(stopwords.words('greek'))\n",
    "stop_words_2 = set(stopwords.words('/home/tgeorgiopoulos/Desktop/Data_Challenge/data/stopwords_greek.txt')) \n",
    "stop_words_greek = set()\n",
    "for word in stop_words_2:\n",
    "    stop_words_greek.add(word.lower())\n",
    "\n",
    "stop_words = stop_words_1.union(stop_words_greek)"
   ]
  },
  {
   "cell_type": "code",
   "execution_count": 79,
   "metadata": {},
   "outputs": [],
   "source": [
    "# We remove the urls and the stopwords from every text\n",
    "def text_centroid(text, model):\n",
    "    \n",
    "    text_vec =[]\n",
    "    counter = 0\n",
    "    sent_text = nltk.sent_tokenize(text)\n",
    "    for sentence in sent_text:\n",
    "        #print(sentence)\n",
    "        sentence = ' '.join(re.sub(\"(\\w+:\\/\\/\\S+)\", \" \", sentence).split()) # removing urls\n",
    "        sentence = ' '.join(re.sub(\"[*#*]\", \" \", sentence).split()) # removing *#*\n",
    "        sentence = sentence.lower()\n",
    "        sent_tokenized = nltk.word_tokenize(sentence)\n",
    "        #print(sent_tokenized)\n",
    "        for word in sent_tokenized:\n",
    "            #print(counter)\n",
    "            if word not in stop_words:\n",
    "                try:\n",
    "                    if counter == 0:\n",
    "                        text_vec = model[word.lower()]\n",
    "                    else:\n",
    "                        text_vec = np.add(text_vec, model[word.lower()])\n",
    "                    counter+=1\n",
    "                except:\n",
    "                    pass\n",
    "    \n",
    "    return np.asarray(text_vec) / counter"
   ]
  },
  {
   "cell_type": "code",
   "execution_count": 80,
   "metadata": {},
   "outputs": [],
   "source": [
    "# We create the training set for the nodes with text and graph using text information\n",
    "X_train_with_text = []\n",
    "for sentence in train_data:    \n",
    "    X_train_with_text.append(text_centroid(sentence,fasttext))   \n",
    "X_train_with_text = np.stack(X_train_with_text, axis=0)\n",
    "\n",
    "X_test_with_text = []\n",
    "for sentence in test_data:\n",
    "    X_test_with_text.append(text_centroid(sentence,fasttext))   \n",
    "X_test_with_text = np.stack(X_test_with_text, axis=0)"
   ]
  },
  {
   "cell_type": "code",
   "execution_count": 81,
   "metadata": {},
   "outputs": [
    {
     "name": "stdout",
     "output_type": "stream",
     "text": [
      "Train matrix with text dimensionality:  (677, 300)\n",
      "Test matrix with text dimensionality:  (171, 300)\n"
     ]
    }
   ],
   "source": [
    "print(\"Train matrix with text dimensionality: \", X_train_with_text.shape)\n",
    "print(\"Test matrix with text dimensionality: \", X_test_with_text.shape)"
   ]
  },
  {
   "cell_type": "code",
   "execution_count": 82,
   "metadata": {},
   "outputs": [
    {
     "name": "stdout",
     "output_type": "stream",
     "text": [
      "_________________________________________________________________\n",
      "Layer (type)                 Output Shape              Param #   \n",
      "=================================================================\n",
      "dense_35 (Dense)             (None, 1024)              308224    \n",
      "_________________________________________________________________\n",
      "dropout_22 (Dropout)         (None, 1024)              0         \n",
      "_________________________________________________________________\n",
      "dense_36 (Dense)             (None, 256)               262400    \n",
      "_________________________________________________________________\n",
      "dropout_23 (Dropout)         (None, 256)               0         \n",
      "_________________________________________________________________\n",
      "dense_37 (Dense)             (None, 5)                 1285      \n",
      "=================================================================\n",
      "Total params: 571,909\n",
      "Trainable params: 571,909\n",
      "Non-trainable params: 0\n",
      "_________________________________________________________________\n",
      "None\n",
      "Epoch 1/25\n",
      "677/677 [==============================] - 1s 1ms/step - loss: 1.5842\n",
      "Epoch 2/25\n",
      "677/677 [==============================] - 0s 112us/step - loss: 1.4742\n",
      "Epoch 3/25\n",
      "677/677 [==============================] - 0s 111us/step - loss: 1.3189\n",
      "Epoch 4/25\n",
      "677/677 [==============================] - 0s 106us/step - loss: 1.1785\n",
      "Epoch 5/25\n",
      "677/677 [==============================] - 0s 147us/step - loss: 1.0698\n",
      "Epoch 6/25\n",
      "677/677 [==============================] - 0s 124us/step - loss: 0.9940\n",
      "Epoch 7/25\n",
      "677/677 [==============================] - 0s 133us/step - loss: 0.9274\n",
      "Epoch 8/25\n",
      "677/677 [==============================] - 0s 129us/step - loss: 0.8582\n",
      "Epoch 9/25\n",
      "677/677 [==============================] - 0s 131us/step - loss: 0.8481\n",
      "Epoch 10/25\n",
      "677/677 [==============================] - 0s 131us/step - loss: 0.7667\n",
      "Epoch 11/25\n",
      "677/677 [==============================] - 0s 157us/step - loss: 0.7355\n",
      "Epoch 12/25\n",
      "677/677 [==============================] - 0s 161us/step - loss: 0.6878\n",
      "Epoch 13/25\n",
      "677/677 [==============================] - 0s 151us/step - loss: 0.6665\n",
      "Epoch 14/25\n",
      "677/677 [==============================] - 0s 168us/step - loss: 0.6482\n",
      "Epoch 15/25\n",
      "677/677 [==============================] - 0s 124us/step - loss: 0.6109\n",
      "Epoch 16/25\n",
      "677/677 [==============================] - 0s 110us/step - loss: 0.5849\n",
      "Epoch 17/25\n",
      "677/677 [==============================] - 0s 110us/step - loss: 0.5624\n",
      "Epoch 18/25\n",
      "677/677 [==============================] - 0s 109us/step - loss: 0.5326\n",
      "Epoch 19/25\n",
      "677/677 [==============================] - 0s 109us/step - loss: 0.5158\n",
      "Epoch 20/25\n",
      "677/677 [==============================] - 0s 114us/step - loss: 0.5142\n",
      "Epoch 21/25\n",
      "677/677 [==============================] - 0s 106us/step - loss: 0.5088\n",
      "Epoch 22/25\n",
      "677/677 [==============================] - 0s 108us/step - loss: 0.5092\n",
      "Epoch 23/25\n",
      "677/677 [==============================] - 0s 106us/step - loss: 0.4564\n",
      "Epoch 24/25\n",
      "677/677 [==============================] - 0s 105us/step - loss: 0.4340\n",
      "Epoch 25/25\n",
      "677/677 [==============================] - 0s 106us/step - loss: 0.4357\n"
     ]
    }
   ],
   "source": [
    "# Training using an MLP\n",
    "mlb = LabelBinarizer()\n",
    "ys = []\n",
    "ys = mlb.fit_transform(y_train_with_text)\n",
    "\n",
    "\n",
    "model2 = Sequential()\n",
    "model2.add(Dense(1024, input_dim=X_train_with_text.shape[1] , activation='relu'))\n",
    "model2.add(Dropout(0.1))\n",
    "model2.add(Dense(256,  activation='relu'))\n",
    "model2.add(Dropout(0.2))\n",
    "model2.add(Dense(5,  activation='softmax'))\n",
    "\n",
    "print(model2.summary())\n",
    "model2.compile(loss='categorical_crossentropy',\n",
    "                  optimizer=Adam(lr=0.001))\n",
    "\n",
    "history2 = model2.fit(X_train_with_text, ys,\n",
    "              batch_size=64,\n",
    "              epochs=25,\n",
    "              verbose = 1)\n",
    "\n",
    "y_pred_with_text = model2.predict(X_test_with_text)"
   ]
  },
  {
   "cell_type": "markdown",
   "metadata": {},
   "source": [
    "### b.) Using only graph information"
   ]
  },
  {
   "cell_type": "code",
   "execution_count": 83,
   "metadata": {},
   "outputs": [
    {
     "name": "stdout",
     "output_type": "stream",
     "text": [
      "65208\n",
      "1642073\n"
     ]
    }
   ],
   "source": [
    "# Create a directed graph\n",
    "G = nx.read_edgelist('../data/edgelist.txt', delimiter=' ', create_using=nx.DiGraph())\n",
    "\n",
    "print(G.number_of_nodes())\n",
    "print(G.number_of_edges())"
   ]
  },
  {
   "cell_type": "code",
   "execution_count": 84,
   "metadata": {},
   "outputs": [
    {
     "name": "stderr",
     "output_type": "stream",
     "text": [
      "[Parallel(n_jobs=4)]: Using backend LokyBackend with 4 concurrent workers.\n",
      "[Parallel(n_jobs=4)]: Done   5 out of   5 | elapsed:  2.1min finished\n"
     ]
    },
    {
     "name": "stdout",
     "output_type": "stream",
     "text": [
      "Learning embedding vectors...\n",
      "Learning embedding vectors done!\n"
     ]
    }
   ],
   "source": [
    "model = DeepWalk(G,walk_length=20,num_walks=50,workers=4)#init model\n",
    "model.train(embed_size=1000,window_size=5,iter=2, workers=4)# train model\n",
    "embeddings = model.get_embeddings()# get embedding vectors"
   ]
  },
  {
   "cell_type": "code",
   "execution_count": 85,
   "metadata": {},
   "outputs": [],
   "source": [
    "# Create the training matrix. Each row corresponds to a web host.\n",
    "X_train_with_text2 = np.zeros((len(train_hosts), 1000))\n",
    "for i in range(len(train_hosts)):    \n",
    "    X_train_with_text2[i,:] = embeddings[train_hosts[i]]\n",
    "    \n",
    "# Create the test matrix. Use the same 3 features as above\n",
    "X_test_with_text2 = np.zeros((len(test_hosts_with_text), 1000))\n",
    "for i in range(len(test_hosts_with_text)):\n",
    "    X_test_with_text2[i,:] = embeddings[test_hosts_with_text[i]]"
   ]
  },
  {
   "cell_type": "code",
   "execution_count": 86,
   "metadata": {},
   "outputs": [
    {
     "name": "stdout",
     "output_type": "stream",
     "text": [
      "Train matrix with text2 dimensionality:  (801, 1000)\n",
      "Test matrix with text2 dimensionality:  (171, 1000)\n"
     ]
    }
   ],
   "source": [
    "print(\"Train matrix with text2 dimensionality: \", X_train_with_text2.shape)\n",
    "print(\"Test matrix with text2 dimensionality: \", X_test_with_text2.shape)"
   ]
  },
  {
   "cell_type": "code",
   "execution_count": 87,
   "metadata": {},
   "outputs": [
    {
     "name": "stdout",
     "output_type": "stream",
     "text": [
      "_________________________________________________________________\n",
      "Layer (type)                 Output Shape              Param #   \n",
      "=================================================================\n",
      "dense_38 (Dense)             (None, 1024)              1025024   \n",
      "_________________________________________________________________\n",
      "dropout_24 (Dropout)         (None, 1024)              0         \n",
      "_________________________________________________________________\n",
      "dense_39 (Dense)             (None, 5)                 5125      \n",
      "=================================================================\n",
      "Total params: 1,030,149\n",
      "Trainable params: 1,030,149\n",
      "Non-trainable params: 0\n",
      "_________________________________________________________________\n",
      "None\n",
      "Epoch 1/7\n",
      "801/801 [==============================] - 1s 1ms/step - loss: 1.2983\n",
      "Epoch 2/7\n",
      "801/801 [==============================] - 0s 208us/step - loss: 0.7129\n",
      "Epoch 3/7\n",
      "801/801 [==============================] - 0s 247us/step - loss: 0.5068\n",
      "Epoch 4/7\n",
      "801/801 [==============================] - 0s 234us/step - loss: 0.3790\n",
      "Epoch 5/7\n",
      "801/801 [==============================] - 0s 219us/step - loss: 0.2893\n",
      "Epoch 6/7\n",
      "801/801 [==============================] - 0s 236us/step - loss: 0.2277\n",
      "Epoch 7/7\n",
      "801/801 [==============================] - 0s 256us/step - loss: 0.1857\n"
     ]
    }
   ],
   "source": [
    "# Training using an MLP\n",
    "mlb = LabelBinarizer()\n",
    "ys = []\n",
    "ys = mlb.fit_transform(y_train)\n",
    "\n",
    "\n",
    "model4 = Sequential()\n",
    "model4.add(Dense(1024, input_dim=X_train_with_text2.shape[1] , activation='relu'))\n",
    "model4.add(Dropout(0.3))\n",
    "model4.add(Dense(5,  activation='softmax'))\n",
    "\n",
    "print(model4.summary())\n",
    "model4.compile(loss='categorical_crossentropy',\n",
    "                  optimizer=Adam(lr=0.001))\n",
    "\n",
    "history4 = model4.fit(X_train_with_text2, ys,\n",
    "              batch_size=64,\n",
    "              epochs=7,\n",
    "              verbose = 1)\n",
    "\n",
    "y_pred_with_text2 = model4.predict(X_test_with_text2)"
   ]
  },
  {
   "cell_type": "markdown",
   "metadata": {},
   "source": [
    "#### We average the predictions for nodes with graph and text"
   ]
  },
  {
   "cell_type": "code",
   "execution_count": 88,
   "metadata": {},
   "outputs": [],
   "source": [
    "y_pred_with = (y_pred_with_text + y_pred_with_text2)/2"
   ]
  },
  {
   "cell_type": "markdown",
   "metadata": {},
   "source": [
    "## 2.) Nodes with graph only"
   ]
  },
  {
   "cell_type": "markdown",
   "metadata": {},
   "source": [
    "### a.) Using graph information"
   ]
  },
  {
   "cell_type": "code",
   "execution_count": 89,
   "metadata": {},
   "outputs": [
    {
     "name": "stdout",
     "output_type": "stream",
     "text": [
      "Train matrix without text dimensionality:  (801, 1000)\n",
      "Test matrix without text dimensionality:  (29, 1000)\n"
     ]
    }
   ],
   "source": [
    "# We have the model ready\n",
    "# Create the training matrix. Each row corresponds to a web host.\n",
    "X_train_without_text = np.zeros((len(train_hosts), 1000))\n",
    "for i in range(len(train_hosts)):    \n",
    "    X_train_without_text[i,:] = embeddings[train_hosts[i]]\n",
    "    \n",
    "# Create the test matrix. Use the same 3 features as above\n",
    "X_test_without_text = np.zeros((len(test_hosts_without_text), 1000))\n",
    "#avg_neig_deg = nx.average_neighbor_degree(G, nodes=test_hosts)\n",
    "for i in range(len(test_hosts_without_text)):\n",
    "    X_test_without_text[i,:] = embeddings[test_hosts_without_text[i]]\n",
    "    \n",
    "print(\"Train matrix without text dimensionality: \", X_train_without_text.shape)\n",
    "print(\"Test matrix without text dimensionality: \", X_test_without_text.shape)"
   ]
  },
  {
   "cell_type": "code",
   "execution_count": 94,
   "metadata": {},
   "outputs": [
    {
     "data": {
      "text/plain": [
       "145"
      ]
     },
     "execution_count": 94,
     "metadata": {},
     "output_type": "execute_result"
    }
   ],
   "source": [
    "y_pred_without_text = model4.predict(X_test_without_text)\n",
    "y_pred_without_text.size"
   ]
  },
  {
   "cell_type": "markdown",
   "metadata": {},
   "source": [
    "## 3.) Recompose the predictions for the test set with the correct sequence"
   ]
  },
  {
   "cell_type": "code",
   "execution_count": 95,
   "metadata": {},
   "outputs": [],
   "source": [
    "y_pred = np.empty((len(test_hosts),5))\n",
    "for i in range(0,len(pos_list_test)):\n",
    "    y_pred[pos_list_test[i]] = y_pred_without_text[i]\n",
    "    \n",
    "pos_a = list()\n",
    "for i in range(0,200):\n",
    "    if i not in pos_list_test:\n",
    "        pos_a.append(i)\n",
    "        \n",
    "for i in range(0,len(pos_a)):\n",
    "    y_pred[pos_a[i]] = y_pred_with[i]"
   ]
  },
  {
   "cell_type": "code",
   "execution_count": 96,
   "metadata": {},
   "outputs": [],
   "source": [
    "# Write predictions to a file\n",
    "with open('sample_submission.csv', 'w') as csvfile:\n",
    "    writer = csv.writer(csvfile, delimiter=',')\n",
    "    lst = np.array(['athlitismos', 'diaskedasi-psyxagogia', 'eidiseis-mme',\n",
    "       'katastimata-agores', 'pliroforiki-diadiktyo']).tolist()\n",
    "    lst.insert(0, \"Host\")\n",
    "    writer.writerow(lst)\n",
    "    for i,test_host in enumerate(test_hosts):\n",
    "        lst = y_pred[i,:].tolist()\n",
    "        lst.insert(0, test_host)\n",
    "        writer.writerow(lst)"
   ]
  }
 ],
 "metadata": {
  "kernelspec": {
   "display_name": "Python 3",
   "language": "python",
   "name": "python3"
  },
  "language_info": {
   "codemirror_mode": {
    "name": "ipython",
    "version": 3
   },
   "file_extension": ".py",
   "mimetype": "text/x-python",
   "name": "python",
   "nbconvert_exporter": "python",
   "pygments_lexer": "ipython3",
   "version": "3.6.8"
  },
  "varInspector": {
   "cols": {
    "lenName": 16,
    "lenType": 16,
    "lenVar": 40
   },
   "kernels_config": {
    "python": {
     "delete_cmd_postfix": "",
     "delete_cmd_prefix": "del ",
     "library": "var_list.py",
     "varRefreshCmd": "print(var_dic_list())"
    },
    "r": {
     "delete_cmd_postfix": ") ",
     "delete_cmd_prefix": "rm(",
     "library": "var_list.r",
     "varRefreshCmd": "cat(var_dic_list()) "
    }
   },
   "position": {
    "height": "516.85px",
    "left": "784.833px",
    "right": "20px",
    "top": "120px",
    "width": "361.167px"
   },
   "types_to_exclude": [
    "module",
    "function",
    "builtin_function_or_method",
    "instance",
    "_Feature"
   ],
   "window_display": false
  }
 },
 "nbformat": 4,
 "nbformat_minor": 2
}
