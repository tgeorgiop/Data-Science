{
 "cells": [
  {
   "cell_type": "code",
   "execution_count": 1,
   "metadata": {},
   "outputs": [],
   "source": [
    "import numpy as np\n",
    "import tensorflow as tf\n",
    "import matplotlib.pyplot as plt\n",
    "from tensorflow.keras.utils import multi_gpu_model\n",
    "from sklearn.model_selection import train_test_split\n",
    "import gc\n",
    "import matplotlib.pyplot as plt\n",
    "%matplotlib inline"
   ]
  },
  {
   "cell_type": "code",
   "execution_count": 2,
   "metadata": {},
   "outputs": [],
   "source": [
    "def plot_accuracy(model):\n",
    "    accuracy = model.history['acc']\n",
    "    val_accuracy = model.history['val_acc']\n",
    "    loss = model.history['loss']\n",
    "    val_loss = model.history['val_loss']\n",
    "    epochs = range(len(accuracy))\n",
    "    plt.plot(epochs, accuracy, 'bo', label='Training accuracy')\n",
    "    plt.plot(epochs, val_accuracy, 'b', label='Validation accuracy')\n",
    "    plt.title('Training and validation accuracy')\n",
    "    plt.legend()\n",
    "    plt.figure()\n",
    "    plt.plot(epochs, loss, 'bo', label='Training loss')\n",
    "    plt.plot(epochs, val_loss, 'b', label='Validation loss')\n",
    "    plt.title('Training and validation loss')\n",
    "    plt.legend()\n",
    "    plt.show()"
   ]
  },
  {
   "cell_type": "code",
   "execution_count": 3,
   "metadata": {},
   "outputs": [],
   "source": [
    "# Load Fashion MNIST dataset\n",
    "fashion_mnist = tf.keras.datasets.fashion_mnist\n",
    "(x_train, y_train), (x_test, y_test) = fashion_mnist.load_data()\n",
    "\n",
    "# Add dimension for input-shape purpose\n",
    "x_train = np.expand_dims(x_train,3)\n",
    "x_test = np.expand_dims(x_test, 3)\n",
    "\n",
    "# Normalize the inputs\n",
    "x_train = tf.keras.utils.normalize(x_train, axis=1) # normalize the train data\n",
    "x_test = tf.keras.utils.normalize(x_test, axis=1) # normalize the test data\n",
    "\n",
    "# Make outputs categorical - one hot encoding\n",
    "y_train = tf.keras.utils.to_categorical(y_train, 10)\n",
    "y_test = tf.keras.utils.to_categorical(y_test, 10)\n",
    "\n",
    "# Split the train data to train and validation\n",
    "x_train, x_val, y_train, y_val = train_test_split(x_train, y_train, test_size=0.15)"
   ]
  },
  {
   "cell_type": "code",
   "execution_count": 4,
   "metadata": {},
   "outputs": [
    {
     "data": {
      "image/png": "[encoded data removed]",
      "text/plain": [
       "<Figure size 432x288 with 9 Axes>"
      ]
     },
     "metadata": {
      "needs_background": "light"
     },
     "output_type": "display_data"
    }
   ],
   "source": [
    "# Look at the first 9 images from the dataset\n",
    "images = range(0,9)\n",
    "for i in images:\n",
    "    plt.subplot(3,3,i+1)\n",
    "    plt.imshow(x_train[i].reshape(28,28))\n",
    "    \n",
    "#Show the plot\n",
    "plt.tight_layout()"
   ]
  },
  {
   "cell_type": "markdown",
   "metadata": {},
   "source": [
    "### 4 convolutional layers + 2 maxpooling + 1 dense (VGG16)"
   ]
  },
  {
   "cell_type": "code",
   "execution_count": 5,
   "metadata": {},
   "outputs": [],
   "source": [
    "model_conv = tf.keras.models.Sequential([\n",
    "    tf.keras.layers.Conv2D(64, kernel_size = (3,3), activation=\"relu\", padding ='same',input_shape=(28, 28,1)),\n",
    "    tf.keras.layers.Conv2D(64, kernel_size = (3,3), activation=\"relu\", padding ='same'),\n",
    "    tf.keras.layers.MaxPool2D(pool_size=(2,2)),\n",
    "    tf.keras.layers.Conv2D(128, kernel_size = (3,3), activation=\"relu\", padding='same'),\n",
    "    tf.keras.layers.Conv2D(128, kernel_size = (3,3), activation=\"relu\", padding='same'),\n",
    "    tf.keras.layers.MaxPool2D(pool_size=(2,2)),\n",
    "    tf.keras.layers.Flatten(),\n",
    "    tf.keras.layers.Dense(512, activation='relu'),\n",
    "    tf.keras.layers.Dense(10, activation=\"softmax\")])"
   ]
  },
  {
   "cell_type": "code",
   "execution_count": 6,
   "metadata": {},
   "outputs": [
    {
     "name": "stdout",
     "output_type": "stream",
     "text": [
      "Train on 51000 samples, validate on 9000 samples\n",
      "Epoch 1/10\n",
      "51000/51000 [==============================] - 14s 275us/step - loss: 0.4486 - acc: 0.8349 - val_loss: 0.3078 - val_acc: 0.8824\n",
      "Epoch 2/10\n",
      "51000/51000 [==============================] - 12s 232us/step - loss: 0.2706 - acc: 0.8997 - val_loss: 0.2454 - val_acc: 0.9077\n",
      "Epoch 3/10\n",
      "51000/51000 [==============================] - 12s 230us/step - loss: 0.2210 - acc: 0.9165 - val_loss: 0.2222 - val_acc: 0.9213\n",
      "Epoch 4/10\n",
      "51000/51000 [==============================] - 12s 232us/step - loss: 0.1843 - acc: 0.9310 - val_loss: 0.2096 - val_acc: 0.9237\n",
      "Epoch 5/10\n",
      "51000/51000 [==============================] - 12s 231us/step - loss: 0.1496 - acc: 0.9426 - val_loss: 0.2167 - val_acc: 0.9224\n",
      "Epoch 6/10\n",
      "51000/51000 [==============================] - 12s 229us/step - loss: 0.1180 - acc: 0.9555 - val_loss: 0.2514 - val_acc: 0.9160\n",
      "Epoch 7/10\n",
      "51000/51000 [==============================] - 12s 232us/step - loss: 0.0942 - acc: 0.9650 - val_loss: 0.2656 - val_acc: 0.9221\n",
      "Epoch 8/10\n",
      "51000/51000 [==============================] - 12s 232us/step - loss: 0.0686 - acc: 0.9735 - val_loss: 0.2916 - val_acc: 0.9233\n",
      "Epoch 9/10\n",
      "51000/51000 [==============================] - 12s 234us/step - loss: 0.0552 - acc: 0.9790 - val_loss: 0.2824 - val_acc: 0.9233\n",
      "Epoch 10/10\n",
      "51000/51000 [==============================] - 12s 232us/step - loss: 0.0471 - acc: 0.9832 - val_loss: 0.3069 - val_acc: 0.9228\n"
     ]
    }
   ],
   "source": [
    "# Train the model on 2 gpus, batch_size=64 for each of them\n",
    "model = multi_gpu_model(model_conv, gpus=2)\n",
    "model.compile(tf.keras.optimizers.Adam(), loss = 'categorical_crossentropy', metrics=['accuracy'])\n",
    "history = model.fit(x_train, y_train, epochs=10, validation_data=(x_val, y_val), batch_size=128)"
   ]
  },
  {
   "cell_type": "code",
   "execution_count": 7,
   "metadata": {},
   "outputs": [
    {
     "data": {
      "image/png": "[encoded data removed]",
      "text/plain": [
       "<Figure size 432x288 with 1 Axes>"
      ]
     },
     "metadata": {
      "needs_background": "light"
     },
     "output_type": "display_data"
    },
    {
     "data": {
      "image/png": "[encoded data removed]",
      "text/plain": [
       "<Figure size 432x288 with 1 Axes>"
      ]
     },
     "metadata": {
      "needs_background": "light"
     },
     "output_type": "display_data"
    }
   ],
   "source": [
    "plot_accuracy(history)"
   ]
  },
  {
   "cell_type": "markdown",
   "metadata": {},
   "source": [
    "It is overfitting. Lets try data augmentation"
   ]
  },
  {
   "cell_type": "markdown",
   "metadata": {},
   "source": [
    "### Data augmentation"
   ]
  },
  {
   "cell_type": "code",
   "execution_count": 8,
   "metadata": {},
   "outputs": [
    {
     "data": {
      "image/png": "[encoded data removed]",
      "text/plain": [
       "<Figure size 432x288 with 9 Axes>"
      ]
     },
     "metadata": {
      "needs_background": "light"
     },
     "output_type": "display_data"
    }
   ],
   "source": [
    "data_gen = tf.keras.preprocessing.image.ImageDataGenerator(rotation_range=10, width_shift_range=0.1, shear_range=0.3,\n",
    "                               height_shift_range=0.1, zoom_range=0.1)\n",
    "#data_gen.fit(x_train)\n",
    "\n",
    "# Show 9 augmented images\n",
    "for x_batch, y_batch in data_gen.flow(x_train, y_train, batch_size=9):\n",
    "    for i in range(0, 9):\n",
    "        plt.subplot(330 + 1 + i)\n",
    "        plt.imshow(x_batch[i].reshape(28, 28))\n",
    "    plt.tight_layout()\n",
    "    break"
   ]
  },
  {
   "cell_type": "code",
   "execution_count": 9,
   "metadata": {},
   "outputs": [
    {
     "name": "stdout",
     "output_type": "stream",
     "text": [
      "Epoch 1/10\n",
      "399/399 [==============================] - 13s 32ms/step - loss: 0.3749 - acc: 0.8571 - val_loss: 0.2116 - val_acc: 0.9218\n",
      "Epoch 2/10\n",
      "399/399 [==============================] - 12s 31ms/step - loss: 0.3004 - acc: 0.8863 - val_loss: 0.2252 - val_acc: 0.9216\n",
      "Epoch 3/10\n",
      "399/399 [==============================] - 12s 31ms/step - loss: 0.2718 - acc: 0.8970 - val_loss: 0.2046 - val_acc: 0.9267\n",
      "Epoch 4/10\n",
      "399/399 [==============================] - 12s 30ms/step - loss: 0.2551 - acc: 0.9036 - val_loss: 0.2135 - val_acc: 0.9246\n",
      "Epoch 5/10\n",
      "399/399 [==============================] - 12s 30ms/step - loss: 0.2433 - acc: 0.9074 - val_loss: 0.2143 - val_acc: 0.9228\n",
      "Epoch 6/10\n",
      "399/399 [==============================] - 12s 31ms/step - loss: 0.2322 - acc: 0.9125 - val_loss: 0.2113 - val_acc: 0.9226\n",
      "Epoch 7/10\n",
      "399/399 [==============================] - 12s 30ms/step - loss: 0.2247 - acc: 0.9153 - val_loss: 0.1971 - val_acc: 0.9312\n",
      "Epoch 8/10\n",
      "399/399 [==============================] - 12s 30ms/step - loss: 0.2161 - acc: 0.9169 - val_loss: 0.2055 - val_acc: 0.9281\n",
      "Epoch 9/10\n",
      "399/399 [==============================] - 12s 30ms/step - loss: 0.2092 - acc: 0.9199 - val_loss: 0.2114 - val_acc: 0.9270\n",
      "Epoch 10/10\n",
      "399/399 [==============================] - 12s 30ms/step - loss: 0.2043 - acc: 0.9230 - val_loss: 0.1968 - val_acc: 0.9297\n"
     ]
    }
   ],
   "source": [
    "history = model.fit_generator(data_gen.flow(x_train, y_train, batch_size=128),\n",
    "                               epochs=10, validation_data=(x_val, y_val))"
   ]
  },
  {
   "cell_type": "code",
   "execution_count": 10,
   "metadata": {},
   "outputs": [
    {
     "data": {
      "image/png": "[encoded data removed]",
      "text/plain": [
       "<Figure size 432x288 with 1 Axes>"
      ]
     },
     "metadata": {
      "needs_background": "light"
     },
     "output_type": "display_data"
    },
    {
     "data": {
      "image/png": "[encoded data removed]",
      "text/plain": [
       "<Figure size 432x288 with 1 Axes>"
      ]
     },
     "metadata": {
      "needs_background": "light"
     },
     "output_type": "display_data"
    }
   ],
   "source": [
    "plot_accuracy(history)"
   ]
  },
  {
   "cell_type": "code",
   "execution_count": 11,
   "metadata": {},
   "outputs": [
    {
     "name": "stdout",
     "output_type": "stream",
     "text": [
      "10000/10000 [==============================] - 1s 72us/step\n",
      "Test score: 0.21714527928829194\n",
      "Test accuracy: 0.9248\n"
     ]
    }
   ],
   "source": [
    "score = history.model.evaluate(x_test, y_test, batch_size=128)\n",
    "print('Test score:', score[0])\n",
    "print('Test accuracy:', score[1])\n",
    "model.save('/home/tgeorgiopoulos/Dropbox/MSc Data Science/CNN_FMNIST')"
   ]
  },
  {
   "cell_type": "markdown",
   "metadata": {},
   "source": [
    "### Data augmentation + Dropout + Regularizer"
   ]
  },
  {
   "cell_type": "code",
   "execution_count": 12,
   "metadata": {},
   "outputs": [],
   "source": [
    "model_conv = tf.keras.models.Sequential([\n",
    "    tf.keras.layers.Conv2D(64, kernel_size = (3,3), activation=\"relu\", padding ='same',input_shape=(28, 28,1)),\n",
    "    tf.keras.layers.Conv2D(64, kernel_size = (3,3), activation=\"relu\", padding ='same'),\n",
    "    tf.keras.layers.MaxPool2D(pool_size=(2,2)),\n",
    "    tf.keras.layers.Dropout(0.1),\n",
    "    tf.keras.layers.Conv2D(128, kernel_size = (3,3), activation=\"relu\", padding='same'),\n",
    "    tf.keras.layers.Conv2D(128, kernel_size = (3,3), activation=\"relu\", padding='same'),\n",
    "    tf.keras.layers.MaxPool2D(pool_size=(2,2)),\n",
    "    tf.keras.layers.Dropout(0.1),\n",
    "    tf.keras.layers.Flatten(),\n",
    "    tf.keras.layers.Dense(512, activation='relu',kernel_regularizer=tf.keras.regularizers.l2(0.0001)),\n",
    "    tf.keras.layers.Dropout(0.2),\n",
    "    tf.keras.layers.Dense(10, activation=\"softmax\")])"
   ]
  },
  {
   "cell_type": "code",
   "execution_count": 13,
   "metadata": {},
   "outputs": [
    {
     "name": "stdout",
     "output_type": "stream",
     "text": [
      "Epoch 1/10\n",
      "399/399 [==============================] - 14s 35ms/step - loss: 0.7166 - acc: 0.7517 - val_loss: 0.4255 - val_acc: 0.8628\n",
      "Epoch 2/10\n",
      "399/399 [==============================] - 13s 32ms/step - loss: 0.5127 - acc: 0.8296 - val_loss: 0.3755 - val_acc: 0.8889\n",
      "Epoch 3/10\n",
      "399/399 [==============================] - 13s 33ms/step - loss: 0.4641 - acc: 0.8505 - val_loss: 0.3447 - val_acc: 0.8987\n",
      "Epoch 4/10\n",
      "399/399 [==============================] - 13s 32ms/step - loss: 0.4365 - acc: 0.8612 - val_loss: 0.3482 - val_acc: 0.8939\n",
      "Epoch 5/10\n",
      "399/399 [==============================] - 13s 33ms/step - loss: 0.4188 - acc: 0.8684 - val_loss: 0.3365 - val_acc: 0.9022\n",
      "Epoch 6/10\n",
      "399/399 [==============================] - 13s 32ms/step - loss: 0.4024 - acc: 0.8775 - val_loss: 0.3167 - val_acc: 0.9088\n",
      "Epoch 7/10\n",
      "399/399 [==============================] - 13s 32ms/step - loss: 0.3949 - acc: 0.8796 - val_loss: 0.3197 - val_acc: 0.9084\n",
      "Epoch 8/10\n",
      "399/399 [==============================] - 13s 32ms/step - loss: 0.3890 - acc: 0.8834 - val_loss: 0.3131 - val_acc: 0.9141\n",
      "Epoch 9/10\n",
      "399/399 [==============================] - 13s 32ms/step - loss: 0.3752 - acc: 0.8893 - val_loss: 0.3038 - val_acc: 0.9166\n",
      "Epoch 10/10\n",
      "399/399 [==============================] - 13s 32ms/step - loss: 0.3732 - acc: 0.8907 - val_loss: 0.2996 - val_acc: 0.9208\n"
     ]
    }
   ],
   "source": [
    "model = multi_gpu_model(model_conv, gpus=2)\n",
    "model.compile(tf.keras.optimizers.Adam(), loss = 'categorical_crossentropy', metrics=['accuracy'])\n",
    "history = model.fit_generator(data_gen.flow(x_train, y_train, batch_size=128),\n",
    "                               epochs=10, validation_data=(x_val, y_val))"
   ]
  },
  {
   "cell_type": "markdown",
   "metadata": {},
   "source": [
    "So, because of no everfitting, dropout and regularization don't help. Lets load the previous model and try ensembling"
   ]
  },
  {
   "cell_type": "markdown",
   "metadata": {},
   "source": [
    "### Data augmentation and ensembling"
   ]
  },
  {
   "cell_type": "code",
   "execution_count": 14,
   "metadata": {},
   "outputs": [],
   "source": [
    "model = tf.keras.models.load_model('/home/tgeorgiopoulos/Dropbox/MSc Data Science/CNN_FMNIST')"
   ]
  },
  {
   "cell_type": "code",
   "execution_count": 15,
   "metadata": {},
   "outputs": [],
   "source": [
    "def fit_model():\n",
    "    model = tf.keras.models.load_model('/home/tgeorgiopoulos/Dropbox/MSc Data Science/CNN_FMNIST')\n",
    "    model = multi_gpu_model(model, gpus=2)\n",
    "    model.compile(tf.keras.optimizers.Adam(), loss = 'categorical_crossentropy', metrics=['accuracy'])\n",
    "    model.fit_generator(data_gen.flow(x_train, y_train, batch_size=128),\n",
    "                               epochs=10, validation_data=(x_val, y_val))\n",
    "    model.optimizer.lr=0.0001\n",
    "    model.fit_generator(data_gen.flow(x_train, y_train, batch_size=128),\n",
    "                               epochs=10, validation_data=(x_val, y_val))\n",
    "    return model"
   ]
  },
  {
   "cell_type": "code",
   "execution_count": 16,
   "metadata": {},
   "outputs": [
    {
     "name": "stdout",
     "output_type": "stream",
     "text": [
      "Epoch 1/10\n",
      "399/399 [==============================] - 14s 35ms/step - loss: 0.2032 - acc: 0.9227 - val_loss: 0.2050 - val_acc: 0.9281\n",
      "Epoch 2/10\n",
      "399/399 [==============================] - 13s 32ms/step - loss: 0.1913 - acc: 0.9281 - val_loss: 0.2054 - val_acc: 0.9301\n",
      "Epoch 3/10\n",
      "399/399 [==============================] - 13s 32ms/step - loss: 0.1867 - acc: 0.9292 - val_loss: 0.1886 - val_acc: 0.9340\n",
      "Epoch 4/10\n",
      "399/399 [==============================] - 13s 32ms/step - loss: 0.1827 - acc: 0.9319 - val_loss: 0.2033 - val_acc: 0.9306\n",
      "Epoch 5/10\n",
      "399/399 [==============================] - 13s 32ms/step - loss: 0.1760 - acc: 0.9326 - val_loss: 0.2092 - val_acc: 0.9281\n",
      "Epoch 6/10\n",
      "399/399 [==============================] - 13s 32ms/step - loss: 0.1779 - acc: 0.9325 - val_loss: 0.1926 - val_acc: 0.9381\n",
      "Epoch 7/10\n",
      "399/399 [==============================] - 13s 32ms/step - loss: 0.1694 - acc: 0.9358 - val_loss: 0.2039 - val_acc: 0.9347\n",
      "Epoch 8/10\n",
      "399/399 [==============================] - 13s 32ms/step - loss: 0.1648 - acc: 0.9374 - val_loss: 0.2130 - val_acc: 0.9312\n",
      "Epoch 9/10\n",
      "399/399 [==============================] - 13s 32ms/step - loss: 0.1595 - acc: 0.9396 - val_loss: 0.1871 - val_acc: 0.9377\n",
      "Epoch 10/10\n",
      "399/399 [==============================] - 13s 32ms/step - loss: 0.1595 - acc: 0.9385 - val_loss: 0.2171 - val_acc: 0.9309\n",
      "Epoch 1/10\n",
      "399/399 [==============================] - 13s 32ms/step - loss: 0.1544 - acc: 0.9410 - val_loss: 0.1933 - val_acc: 0.9371\n",
      "Epoch 2/10\n",
      "399/399 [==============================] - 13s 32ms/step - loss: 0.1529 - acc: 0.9422 - val_loss: 0.1979 - val_acc: 0.9357\n",
      "Epoch 3/10\n",
      "399/399 [==============================] - 13s 32ms/step - loss: 0.1468 - acc: 0.9447 - val_loss: 0.2043 - val_acc: 0.9352\n",
      "Epoch 4/10\n",
      "399/399 [==============================] - 13s 33ms/step - loss: 0.1459 - acc: 0.9452 - val_loss: 0.1977 - val_acc: 0.9338\n",
      "Epoch 5/10\n",
      "399/399 [==============================] - 14s 34ms/step - loss: 0.1451 - acc: 0.9456 - val_loss: 0.2079 - val_acc: 0.9336\n",
      "Epoch 6/10\n",
      "399/399 [==============================] - 14s 34ms/step - loss: 0.1365 - acc: 0.9486 - val_loss: 0.2052 - val_acc: 0.9330\n",
      "Epoch 7/10\n",
      "399/399 [==============================] - 13s 32ms/step - loss: 0.1380 - acc: 0.9479 - val_loss: 0.2144 - val_acc: 0.9323\n",
      "Epoch 8/10\n",
      "399/399 [==============================] - 13s 32ms/step - loss: 0.1367 - acc: 0.9490 - val_loss: 0.2146 - val_acc: 0.9323\n",
      "Epoch 9/10\n",
      "399/399 [==============================] - 13s 32ms/step - loss: 0.1314 - acc: 0.9509 - val_loss: 0.2067 - val_acc: 0.9354\n",
      "Epoch 10/10\n",
      "399/399 [==============================] - 13s 32ms/step - loss: 0.1291 - acc: 0.9513 - val_loss: 0.2110 - val_acc: 0.9342\n",
      "Epoch 1/10\n",
      "399/399 [==============================] - 14s 35ms/step - loss: 0.1983 - acc: 0.9249 - val_loss: 0.1915 - val_acc: 0.9340\n",
      "Epoch 2/10\n",
      "399/399 [==============================] - 13s 32ms/step - loss: 0.1960 - acc: 0.9251 - val_loss: 0.2025 - val_acc: 0.9303\n",
      "Epoch 3/10\n",
      "399/399 [==============================] - 13s 32ms/step - loss: 0.1866 - acc: 0.9291 - val_loss: 0.1903 - val_acc: 0.9308\n",
      "Epoch 4/10\n",
      "399/399 [==============================] - 13s 32ms/step - loss: 0.1839 - acc: 0.9314 - val_loss: 0.1924 - val_acc: 0.9321\n",
      "Epoch 5/10\n",
      "399/399 [==============================] - 13s 32ms/step - loss: 0.1791 - acc: 0.9325 - val_loss: 0.1927 - val_acc: 0.9366\n",
      "Epoch 6/10\n",
      "399/399 [==============================] - 13s 32ms/step - loss: 0.1734 - acc: 0.9358 - val_loss: 0.2076 - val_acc: 0.9308\n",
      "Epoch 7/10\n",
      "399/399 [==============================] - 13s 32ms/step - loss: 0.1692 - acc: 0.9354 - val_loss: 0.2086 - val_acc: 0.9307\n",
      "Epoch 8/10\n",
      "399/399 [==============================] - 13s 33ms/step - loss: 0.1658 - acc: 0.9378 - val_loss: 0.2025 - val_acc: 0.9342\n",
      "Epoch 9/10\n",
      "399/399 [==============================] - 13s 32ms/step - loss: 0.1598 - acc: 0.9395 - val_loss: 0.1950 - val_acc: 0.9374\n",
      "Epoch 10/10\n",
      "399/399 [==============================] - 14s 34ms/step - loss: 0.1604 - acc: 0.9394 - val_loss: 0.2106 - val_acc: 0.9342\n",
      "Epoch 1/10\n",
      "399/399 [==============================] - 13s 32ms/step - loss: 0.1527 - acc: 0.9407 - val_loss: 0.2159 - val_acc: 0.9318\n",
      "Epoch 2/10\n",
      "399/399 [==============================] - 13s 32ms/step - loss: 0.1477 - acc: 0.9434 - val_loss: 0.2032 - val_acc: 0.9344\n",
      "Epoch 3/10\n",
      "399/399 [==============================] - 13s 32ms/step - loss: 0.1478 - acc: 0.9446 - val_loss: 0.2148 - val_acc: 0.9346\n",
      "Epoch 4/10\n",
      "399/399 [==============================] - 13s 32ms/step - loss: 0.1442 - acc: 0.9454 - val_loss: 0.2106 - val_acc: 0.9367\n",
      "Epoch 5/10\n",
      "399/399 [==============================] - 13s 32ms/step - loss: 0.1427 - acc: 0.9464 - val_loss: 0.2176 - val_acc: 0.9288\n",
      "Epoch 6/10\n",
      "399/399 [==============================] - 13s 33ms/step - loss: 0.1378 - acc: 0.9491 - val_loss: 0.2088 - val_acc: 0.9320\n",
      "Epoch 7/10\n",
      "399/399 [==============================] - 13s 33ms/step - loss: 0.1372 - acc: 0.9483 - val_loss: 0.2187 - val_acc: 0.9318\n",
      "Epoch 8/10\n",
      "399/399 [==============================] - 13s 32ms/step - loss: 0.1344 - acc: 0.9494 - val_loss: 0.2152 - val_acc: 0.9344\n",
      "Epoch 9/10\n",
      "399/399 [==============================] - 13s 32ms/step - loss: 0.1318 - acc: 0.9505 - val_loss: 0.2022 - val_acc: 0.9328\n",
      "Epoch 10/10\n",
      "399/399 [==============================] - 14s 34ms/step - loss: 0.1276 - acc: 0.9519 - val_loss: 0.2307 - val_acc: 0.9359\n",
      "Epoch 1/10\n",
      "399/399 [==============================] - 15s 38ms/step - loss: 0.1983 - acc: 0.9245 - val_loss: 0.1873 - val_acc: 0.9330\n",
      "Epoch 2/10\n",
      "399/399 [==============================] - 14s 34ms/step - loss: 0.1945 - acc: 0.9265 - val_loss: 0.1833 - val_acc: 0.9386\n",
      "Epoch 3/10\n",
      "399/399 [==============================] - 13s 33ms/step - loss: 0.1872 - acc: 0.9293 - val_loss: 0.1960 - val_acc: 0.9329\n",
      "Epoch 4/10\n",
      "399/399 [==============================] - 14s 34ms/step - loss: 0.1815 - acc: 0.9306 - val_loss: 0.1916 - val_acc: 0.9346\n",
      "Epoch 5/10\n",
      "399/399 [==============================] - 14s 34ms/step - loss: 0.1769 - acc: 0.9333 - val_loss: 0.1913 - val_acc: 0.9373\n",
      "Epoch 6/10\n",
      "399/399 [==============================] - 13s 33ms/step - loss: 0.1713 - acc: 0.9345 - val_loss: 0.2001 - val_acc: 0.9329\n",
      "Epoch 7/10\n",
      "399/399 [==============================] - 13s 34ms/step - loss: 0.1684 - acc: 0.9375 - val_loss: 0.1947 - val_acc: 0.9351\n",
      "Epoch 8/10\n",
      "399/399 [==============================] - 14s 34ms/step - loss: 0.1667 - acc: 0.9364 - val_loss: 0.2021 - val_acc: 0.9343\n",
      "Epoch 9/10\n",
      "399/399 [==============================] - 13s 33ms/step - loss: 0.1628 - acc: 0.9384 - val_loss: 0.2253 - val_acc: 0.9316\n",
      "Epoch 10/10\n",
      "399/399 [==============================] - 13s 33ms/step - loss: 0.1585 - acc: 0.9406 - val_loss: 0.2120 - val_acc: 0.9350\n",
      "Epoch 1/10\n",
      "399/399 [==============================] - 13s 32ms/step - loss: 0.1548 - acc: 0.9421 - val_loss: 0.2091 - val_acc: 0.9334\n",
      "Epoch 2/10\n",
      "399/399 [==============================] - 13s 32ms/step - loss: 0.1513 - acc: 0.9440 - val_loss: 0.2137 - val_acc: 0.9326\n",
      "Epoch 3/10\n",
      "399/399 [==============================] - 13s 33ms/step - loss: 0.1500 - acc: 0.9435 - val_loss: 0.2176 - val_acc: 0.9287\n",
      "Epoch 4/10\n",
      "399/399 [==============================] - 13s 32ms/step - loss: 0.1480 - acc: 0.9438 - val_loss: 0.2152 - val_acc: 0.9314\n",
      "Epoch 5/10\n",
      "399/399 [==============================] - 13s 33ms/step - loss: 0.1442 - acc: 0.9459 - val_loss: 0.2125 - val_acc: 0.9342\n",
      "Epoch 6/10\n",
      "399/399 [==============================] - 13s 32ms/step - loss: 0.1433 - acc: 0.9466 - val_loss: 0.2315 - val_acc: 0.9303\n",
      "Epoch 7/10\n",
      "399/399 [==============================] - 13s 32ms/step - loss: 0.1378 - acc: 0.9469 - val_loss: 0.2251 - val_acc: 0.9354\n",
      "Epoch 8/10\n",
      "399/399 [==============================] - 13s 32ms/step - loss: 0.1333 - acc: 0.9495 - val_loss: 0.2290 - val_acc: 0.9278\n",
      "Epoch 9/10\n",
      "399/399 [==============================] - 13s 33ms/step - loss: 0.1327 - acc: 0.9495 - val_loss: 0.2219 - val_acc: 0.9339\n",
      "Epoch 10/10\n",
      "399/399 [==============================] - 14s 34ms/step - loss: 0.1291 - acc: 0.9519 - val_loss: 0.2295 - val_acc: 0.9350\n",
      "Epoch 1/10\n",
      "399/399 [==============================] - 15s 38ms/step - loss: 0.1982 - acc: 0.9248 - val_loss: 0.2065 - val_acc: 0.9283\n",
      "Epoch 2/10\n",
      "399/399 [==============================] - 13s 33ms/step - loss: 0.1955 - acc: 0.9271 - val_loss: 0.2070 - val_acc: 0.9316\n",
      "Epoch 3/10\n",
      "399/399 [==============================] - 13s 32ms/step - loss: 0.1877 - acc: 0.9282 - val_loss: 0.1914 - val_acc: 0.9337\n",
      "Epoch 4/10\n",
      "399/399 [==============================] - 14s 34ms/step - loss: 0.1834 - acc: 0.9302 - val_loss: 0.1968 - val_acc: 0.9302\n",
      "Epoch 5/10\n",
      "399/399 [==============================] - 15s 37ms/step - loss: 0.1755 - acc: 0.9341 - val_loss: 0.2092 - val_acc: 0.9327\n",
      "Epoch 6/10\n",
      "399/399 [==============================] - 14s 34ms/step - loss: 0.1733 - acc: 0.9337 - val_loss: 0.1962 - val_acc: 0.9343\n",
      "Epoch 7/10\n",
      "399/399 [==============================] - 14s 36ms/step - loss: 0.1685 - acc: 0.9361 - val_loss: 0.1980 - val_acc: 0.9334\n",
      "Epoch 8/10\n",
      "399/399 [==============================] - 14s 34ms/step - loss: 0.1657 - acc: 0.9367 - val_loss: 0.2231 - val_acc: 0.9266\n",
      "Epoch 9/10\n",
      "399/399 [==============================] - 13s 33ms/step - loss: 0.1627 - acc: 0.9395 - val_loss: 0.1926 - val_acc: 0.9392\n",
      "Epoch 10/10\n",
      "399/399 [==============================] - 13s 33ms/step - loss: 0.1587 - acc: 0.9404 - val_loss: 0.1961 - val_acc: 0.9359\n",
      "Epoch 1/10\n",
      "399/399 [==============================] - 14s 34ms/step - loss: 0.1537 - acc: 0.9422 - val_loss: 0.2082 - val_acc: 0.9352\n",
      "Epoch 2/10\n",
      "399/399 [==============================] - 14s 35ms/step - loss: 0.1500 - acc: 0.9428 - val_loss: 0.2137 - val_acc: 0.9357\n",
      "Epoch 3/10\n",
      "399/399 [==============================] - 14s 36ms/step - loss: 0.1487 - acc: 0.9442 - val_loss: 0.2108 - val_acc: 0.9300\n",
      "Epoch 4/10\n",
      "399/399 [==============================] - 14s 36ms/step - loss: 0.1447 - acc: 0.9446 - val_loss: 0.2153 - val_acc: 0.9346\n",
      "Epoch 5/10\n",
      "399/399 [==============================] - 14s 35ms/step - loss: 0.1404 - acc: 0.9472 - val_loss: 0.2205 - val_acc: 0.9342\n",
      "Epoch 6/10\n",
      "399/399 [==============================] - 14s 34ms/step - loss: 0.1415 - acc: 0.9475 - val_loss: 0.2002 - val_acc: 0.9351\n",
      "Epoch 7/10\n",
      "399/399 [==============================] - 13s 32ms/step - loss: 0.1381 - acc: 0.9486 - val_loss: 0.2169 - val_acc: 0.9329\n",
      "Epoch 8/10\n",
      "399/399 [==============================] - 12s 31ms/step - loss: 0.1336 - acc: 0.9493 - val_loss: 0.2144 - val_acc: 0.9362\n",
      "Epoch 9/10\n",
      "399/399 [==============================] - 12s 31ms/step - loss: 0.1321 - acc: 0.9501 - val_loss: 0.2083 - val_acc: 0.9366\n",
      "Epoch 10/10\n",
      "399/399 [==============================] - 13s 33ms/step - loss: 0.1296 - acc: 0.9508 - val_loss: 0.2065 - val_acc: 0.9383\n",
      "Epoch 1/10\n",
      "399/399 [==============================] - 15s 38ms/step - loss: 0.2003 - acc: 0.9246 - val_loss: 0.2094 - val_acc: 0.9310\n",
      "Epoch 2/10\n",
      "399/399 [==============================] - 13s 32ms/step - loss: 0.1916 - acc: 0.9270 - val_loss: 0.2007 - val_acc: 0.9299\n",
      "Epoch 3/10\n",
      "399/399 [==============================] - 14s 35ms/step - loss: 0.1892 - acc: 0.9284 - val_loss: 0.1902 - val_acc: 0.9333\n",
      "Epoch 4/10\n",
      "399/399 [==============================] - 14s 35ms/step - loss: 0.1826 - acc: 0.9306 - val_loss: 0.1897 - val_acc: 0.9380\n",
      "Epoch 5/10\n",
      "399/399 [==============================] - 14s 35ms/step - loss: 0.1767 - acc: 0.9330 - val_loss: 0.1970 - val_acc: 0.9318\n",
      "Epoch 6/10\n",
      "399/399 [==============================] - 15s 37ms/step - loss: 0.1733 - acc: 0.9351 - val_loss: 0.2095 - val_acc: 0.9283\n",
      "Epoch 7/10\n",
      "399/399 [==============================] - 14s 35ms/step - loss: 0.1697 - acc: 0.9356 - val_loss: 0.2141 - val_acc: 0.9331\n",
      "Epoch 8/10\n",
      "399/399 [==============================] - 15s 37ms/step - loss: 0.1633 - acc: 0.9383 - val_loss: 0.2110 - val_acc: 0.9310\n",
      "Epoch 9/10\n",
      "399/399 [==============================] - 15s 37ms/step - loss: 0.1634 - acc: 0.9382 - val_loss: 0.2005 - val_acc: 0.9341\n",
      "Epoch 10/10\n",
      "399/399 [==============================] - 13s 33ms/step - loss: 0.1558 - acc: 0.9414 - val_loss: 0.2032 - val_acc: 0.9369\n",
      "Epoch 1/10\n",
      "399/399 [==============================] - 13s 33ms/step - loss: 0.1567 - acc: 0.9407 - val_loss: 0.1967 - val_acc: 0.9326\n",
      "Epoch 2/10\n",
      "399/399 [==============================] - 13s 33ms/step - loss: 0.1484 - acc: 0.9441 - val_loss: 0.1969 - val_acc: 0.9334\n",
      "Epoch 3/10\n",
      "399/399 [==============================] - 13s 33ms/step - loss: 0.1473 - acc: 0.9440 - val_loss: 0.2270 - val_acc: 0.9298\n",
      "Epoch 4/10\n",
      "399/399 [==============================] - 13s 33ms/step - loss: 0.1459 - acc: 0.9446 - val_loss: 0.2053 - val_acc: 0.9364\n",
      "Epoch 5/10\n",
      "399/399 [==============================] - 13s 32ms/step - loss: 0.1470 - acc: 0.9441 - val_loss: 0.2042 - val_acc: 0.9352\n",
      "Epoch 6/10\n",
      "399/399 [==============================] - 13s 33ms/step - loss: 0.1417 - acc: 0.9466 - val_loss: 0.2363 - val_acc: 0.9289\n",
      "Epoch 7/10\n",
      "399/399 [==============================] - 13s 32ms/step - loss: 0.1366 - acc: 0.9489 - val_loss: 0.2296 - val_acc: 0.9321\n",
      "Epoch 8/10\n",
      "399/399 [==============================] - 13s 32ms/step - loss: 0.1374 - acc: 0.9480 - val_loss: 0.2036 - val_acc: 0.9381\n",
      "Epoch 9/10\n",
      "399/399 [==============================] - 13s 33ms/step - loss: 0.1348 - acc: 0.9485 - val_loss: 0.2338 - val_acc: 0.9318\n",
      "Epoch 10/10\n",
      "399/399 [==============================] - 13s 33ms/step - loss: 0.1292 - acc: 0.9519 - val_loss: 0.2050 - val_acc: 0.9356\n"
     ]
    }
   ],
   "source": [
    "models = [fit_model() for i in range(5)]"
   ]
  },
  {
   "cell_type": "code",
   "execution_count": 17,
   "metadata": {},
   "outputs": [
    {
     "name": "stdout",
     "output_type": "stream",
     "text": [
      "10000/10000 [==============================] - 1s 110us/step\n",
      "10000/10000 [==============================] - 1s 102us/step\n",
      "10000/10000 [==============================] - 1s 104us/step\n",
      "10000/10000 [==============================] - 1s 96us/step\n",
      "10000/10000 [==============================] - 1s 92us/step\n"
     ]
    }
   ],
   "source": [
    "evals = np.array([m.evaluate(x_test, y_test, batch_size=128) for m in models])"
   ]
  },
  {
   "cell_type": "code",
   "execution_count": 18,
   "metadata": {},
   "outputs": [],
   "source": [
    "all_preds = np.stack([m.predict(x_test, batch_size=128) for m in models])\n",
    "avg_preds = all_preds.mean(axis=0)"
   ]
  },
  {
   "cell_type": "code",
   "execution_count": 19,
   "metadata": {},
   "outputs": [
    {
     "name": "stdout",
     "output_type": "stream",
     "text": [
      "10000/10000 [==============================] - 1s 83us/step\n",
      "Test score: 0.32565595121383667\n",
      "Test accuracy: 0.9301\n"
     ]
    }
   ],
   "source": [
    "score = history.model.evaluate(x_test, avg_preds, batch_size=128)\n",
    "print('Test score:', score[0])\n",
    "print('Test accuracy:', score[1])"
   ]
  },
  {
   "cell_type": "code",
   "execution_count": null,
   "metadata": {},
   "outputs": [],
   "source": []
  },
  {
   "cell_type": "code",
   "execution_count": null,
   "metadata": {},
   "outputs": [],
   "source": []
  }
 ],
 "metadata": {
  "kernelspec": {
   "display_name": "Python 3",
   "language": "python",
   "name": "python3"
  },
  "language_info": {
   "codemirror_mode": {
    "name": "ipython",
    "version": 3
   },
   "file_extension": ".py",
   "mimetype": "text/x-python",
   "name": "python",
   "nbconvert_exporter": "python",
   "pygments_lexer": "ipython3",
   "version": "3.6.7"
  }
 },
 "nbformat": 4,
 "nbformat_minor": 2
}
