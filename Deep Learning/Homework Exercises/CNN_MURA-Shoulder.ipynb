{
 "cells": [
  {
   "cell_type": "code",
   "execution_count": 1,
   "metadata": {},
   "outputs": [],
   "source": [
    "import numpy as np\n",
    "import tensorflow as tf\n",
    "import matplotlib.pyplot as plt\n",
    "import matplotlib.image as mpimg\n",
    "from IPython.display import display\n",
    "from PIL import Image\n",
    "from tensorflow.keras.utils import multi_gpu_model\n",
    "from tensorflow.keras.models import Model\n",
    "from sklearn.model_selection import train_test_split\n",
    "from keras_preprocessing.image import ImageDataGenerator\n",
    "import gc\n",
    "import pandas as pd\n",
    "import matplotlib.pyplot as plt\n",
    "import os\n",
    "%matplotlib inline"
   ]
  },
  {
   "cell_type": "code",
   "execution_count": 2,
   "metadata": {},
   "outputs": [],
   "source": [
    "path = '/home/tgeorgiopoulos/Downloads'"
   ]
  },
  {
   "cell_type": "code",
   "execution_count": 3,
   "metadata": {},
   "outputs": [
    {
     "data": {
      "image/png": "[encoded data removed]",
      "text/plain": [
       "<Figure size 432x288 with 4 Axes>"
      ]
     },
     "metadata": {
      "needs_background": "light"
     },
     "output_type": "display_data"
    }
   ],
   "source": [
    "img1 = mpimg.imread(path+'/MURA-v1.1/train/XR_FINGER/patient03400/study1_positive/image2.png')\n",
    "img2 = mpimg.imread(path+'/MURA-v1.1/train/XR_ELBOW/patient00011/study1_negative/image2.png')\n",
    "img3 = mpimg.imread(path+'/MURA-v1.1/train/XR_HAND/patient00051/study1_negative/image1.png')\n",
    "img4 = mpimg.imread(path+'/MURA-v1.1/train/XR_SHOULDER/patient00002/study1_positive/image2.png')\n",
    "\n",
    "plt.subplot(221); plt.hist(img1)\n",
    "plt.subplot(222); plt.hist(img2)\n",
    "plt.subplot(223); plt.hist(img3)\n",
    "plt.subplot(224); plt.hist(img4)\n",
    "plt.show()\n"
   ]
  },
  {
   "cell_type": "markdown",
   "metadata": {},
   "source": [
    "The images have grayscale values between 0 and 1. So, there is no need for rescaling."
   ]
  },
  {
   "cell_type": "code",
   "execution_count": 4,
   "metadata": {},
   "outputs": [],
   "source": [
    "# Reading the images from csv and creating a panda frame with the paths and the labels for each image.\n",
    "train_df = pd.read_csv(path+'/MURA-v1.1/train_image_paths.csv',names = ['paths','label'],\n",
    "                       skiprows=9651, nrows=5106)\n",
    "valid_df = pd.read_csv(path+'/MURA-v1.1/valid_image_paths.csv',names = ['paths','label'],\n",
    "                       skiprows=2736, nrows=461)\n",
    "\n",
    "for index, row in train_df.iterrows():\n",
    "    if \"positive\" in train_df.iloc[index,0]:\n",
    "        train_df.iloc[index,1] = 1\n",
    "    elif \"negative\" in train_df.iloc[index,0]:\n",
    "        train_df.iloc[index,1] = 0\n",
    "\n",
    "for index, row in valid_df.iterrows():\n",
    "    if \"positive\" in valid_df.iloc[index,0]:\n",
    "        valid_df.iloc[index,1] = 1\n",
    "    elif \"negative\" in valid_df.iloc[index,0]:\n",
    "        valid_df.iloc[index,1] = 0"
   ]
  },
  {
   "cell_type": "markdown",
   "metadata": {},
   "source": [
    "We apply data augmentation to the train dataset and convert all the images to (50,50) dimensions."
   ]
  },
  {
   "cell_type": "code",
   "execution_count": 7,
   "metadata": {},
   "outputs": [
    {
     "name": "stdout",
     "output_type": "stream",
     "text": [
      "Found 5106 images belonging to 2 classes.\n",
      "Found 461 images belonging to 2 classes.\n"
     ]
    }
   ],
   "source": [
    "train_datagen = ImageDataGenerator(samplewise_center = True,\n",
    "                                   samplewise_std_normalization=True,\n",
    "                                   rotation_range = 40, \n",
    "                                   width_shift_range = 0.1, \n",
    "                                   height_shift_range = 0.1,\n",
    "                                   zoom_range = 0.01, \n",
    "                                   horizontal_flip = True,\n",
    "                                   vertical_flip = True)\n",
    "\n",
    "train_generator = train_datagen.flow_from_dataframe(dataframe=train_df,\n",
    "                                                    directory=path,\n",
    "                                                    x_col='paths',\n",
    "                                                    y_col='label',\n",
    "                                                    has_ext=True,\n",
    "                                                    batch_size=8,\n",
    "                                                    class_mode='binary',\n",
    "                                                    shuffle=True,\n",
    "                                                    target_size=(50,50),\n",
    "                                                    color_mode='grayscale')\n",
    "\n",
    "valid_datagen = ImageDataGenerator(samplewise_center = True,\n",
    "                                   samplewise_std_normalization = True,\n",
    "                                   rotation_range = 0, \n",
    "                                   width_shift_range = 0., \n",
    "                                   height_shift_range = 0.,\n",
    "                                   zoom_range = 0.0, \n",
    "                                   horizontal_flip = False,\n",
    "                                   vertical_flip = False)\n",
    "\n",
    "validation_generator = valid_datagen.flow_from_dataframe(dataframe=valid_df,\n",
    "                                                         directory=path,\n",
    "                                                         x_col='paths',\n",
    "                                                         y_col='label',\n",
    "                                                         has_ext=True,\n",
    "                                                         batch_size=8,\n",
    "                                                         class_mode='binary',\n",
    "                                                         shuffle=False,\n",
    "                                                         target_size=(50,50),\n",
    "                                                         color_mode='grayscale')"
   ]
  },
  {
   "cell_type": "code",
   "execution_count": 17,
   "metadata": {},
   "outputs": [],
   "source": [
    "model_conv = tf.keras.models.Sequential([\n",
    "        tf.keras.layers.Conv2D(128, kernel_size = (5,5), activation=\"relu\",input_shape=(50, 50, 1)),\n",
    "        tf.keras.layers.MaxPool2D(pool_size=(4,4)),\n",
    "        tf.keras.layers.Conv2D(256, kernel_size = (5,5), activation=\"relu\"),\n",
    "        tf.keras.layers.MaxPool2D(pool_size=(4,4)),\n",
    "        tf.keras.layers.Flatten(),\n",
    "        tf.keras.layers.Dense(256, activation='relu'),\n",
    "        tf.keras.layers.Dense(1, activation='sigmoid')])"
   ]
  },
  {
   "cell_type": "code",
   "execution_count": null,
   "metadata": {},
   "outputs": [],
   "source": [
    "model = multi_gpu_model(model_conv, gpus=2)\n",
    "model.compile(tf.keras.optimizers.Adam(), loss = 'binary_crossentropy', metrics=['accuracy'])\n",
    "\n",
    "history = model.fit_generator(train_generator,\n",
    "                              epochs=5,\n",
    "                              steps_per_epoch=500,\n",
    "                              validation_data=validation_generator,\n",
    "                              verbose=2)"
   ]
  },
  {
   "cell_type": "code",
   "execution_count": null,
   "metadata": {},
   "outputs": [],
   "source": [
    "model_conv.summary()"
   ]
  },
  {
   "cell_type": "code",
   "execution_count": 44,
   "metadata": {},
   "outputs": [
    {
     "name": "stdout",
     "output_type": "stream",
     "text": [
      "Epoch 1/5\n",
      "511/511 [==============================] - 21s 41ms/step - loss: 10.9584 - acc: 0.3126 - val_loss: 5.1684 - val_acc: 0.6758\n",
      "Epoch 2/5\n",
      "511/511 [==============================] - 20s 39ms/step - loss: 10.9584 - acc: 0.3126 - val_loss: 5.1684 - val_acc: 0.6758\n",
      "Epoch 3/5\n",
      "511/511 [==============================] - 21s 41ms/step - loss: 10.9561 - acc: 0.3128 - val_loss: 5.1684 - val_acc: 0.6758\n",
      "Epoch 4/5\n",
      "511/511 [==============================] - 21s 41ms/step - loss: 10.9514 - acc: 0.3131 - val_loss: 5.1684 - val_acc: 0.6758\n",
      "Epoch 5/5\n",
      "511/511 [==============================] - 21s 41ms/step - loss: 10.9584 - acc: 0.3126 - val_loss: 5.1684 - val_acc: 0.6758\n"
     ]
    }
   ],
   "source": [
    "model = tf.keras.models.Sequential([\n",
    "    tf.keras.layers.Flatten(input_shape=(200, 150, 1)),\n",
    "    tf.keras.layers.Dense(12, activation=\"relu\"),\n",
    "    tf.keras.layers.Dense(1, activation=\"softmax\")])\n",
    "model = multi_gpu_model(model, gpus=2)\n",
    "model.compile(tf.keras.optimizers.Adam(), loss = 'binary_crossentropy', metrics=['accuracy'])\n",
    "\n",
    "history = model.fit_generator(train_generator,\n",
    "                              epochs=5,\n",
    "                              validation_data=validation_generator,\n",
    "                              verbose=1)"
   ]
  },
  {
   "cell_type": "code",
   "execution_count": 17,
   "metadata": {},
   "outputs": [],
   "source": [
    "from tensorflow.keras.applications import VGG16\n",
    "conv_base = VGG16(weights='imagenet',\n",
    "                  include_top=False,\n",
    "                  input_shape=(50, 50, 3))"
   ]
  },
  {
   "cell_type": "code",
   "execution_count": 18,
   "metadata": {},
   "outputs": [],
   "source": [
    "model = tf.keras.models.Sequential([\n",
    "        conv_base,\n",
    "        tf.keras.layers.Flatten(),\n",
    "        tf.keras.layers.Dense(1024, activation='relu'),\n",
    "        tf.keras.layers.Dense(1, activation='softmax')])"
   ]
  },
  {
   "cell_type": "code",
   "execution_count": 19,
   "metadata": {},
   "outputs": [],
   "source": [
    "conv_base.trainable = True\n",
    "\n",
    "set_trainable = False\n",
    "for layer in conv_base.layers:\n",
    "    if layer.name == 'block5_conv1':\n",
    "        set_trainable = True\n",
    "    if set_trainable:\n",
    "        layer.trainable = True\n",
    "    else:\n",
    "        layer.trainable = False"
   ]
  },
  {
   "cell_type": "code",
   "execution_count": null,
   "metadata": {},
   "outputs": [],
   "source": [
    "model = multi_gpu_model(model, gpus=2)\n",
    "model.compile(tf.keras.optimizers.Adam(), loss = 'binary_crossentropy', metrics=['accuracy'])\n",
    "\n",
    "history = model.fit_generator(train_generator,\n",
    "                              epochs=50,\n",
    "                              validation_data=validation_generator)"
   ]
  }
 ],
 "metadata": {
  "kernelspec": {
   "display_name": "Python 3",
   "language": "python",
   "name": "python3"
  },
  "language_info": {
   "codemirror_mode": {
    "name": "ipython",
    "version": 3
   },
   "file_extension": ".py",
   "mimetype": "text/x-python",
   "name": "python",
   "nbconvert_exporter": "python",
   "pygments_lexer": "ipython3",
   "version": "3.6.7"
  }
 },
 "nbformat": 4,
 "nbformat_minor": 2
}
