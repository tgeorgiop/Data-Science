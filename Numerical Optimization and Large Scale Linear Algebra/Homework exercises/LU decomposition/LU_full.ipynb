{
 "cells": [
  {
   "cell_type": "code",
   "execution_count": 11,
   "metadata": {},
   "outputs": [],
   "source": [
    "import numpy as np\n",
    "import scipy.linalg\n",
    "import time"
   ]
  },
  {
   "cell_type": "code",
   "execution_count": 12,
   "metadata": {},
   "outputs": [
    {
     "data": {
      "text/plain": [
       "16.781253576278687"
      ]
     },
     "execution_count": 12,
     "metadata": {},
     "output_type": "execute_result"
    }
   ],
   "source": [
    "n = 2048\n",
    "#A = np.tril(-1*np.ones(n),-1)\n",
    "#A[:,n-1] = 1\n",
    "#np.fill_diagonal(A,1)\n",
    "A = -100 + 200*np.random.rand(n,n)\n",
    "x_known = np.ones((n,1))\n",
    "#x_known = -100 + 200*np.random.rand(n,1)\n",
    "b = A @ x_known\n",
    "#A = np.asfortranarray(A)\n",
    "LU = np.matrix(np.copy(A))\n",
    "L = np.eye(n)\n",
    "P = np.arange(n)\n",
    "Q = np.arange(n)\n",
    "\n",
    "t = time.time()\n",
    "for i in range(0,n-1):\n",
    "    x_ = np.abs(LU[i:,i:].A1)\n",
    "    p = np.argmax(x_)\n",
    "    p_row,p_col = np.unravel_index(p,LU[i:,i:].shape)\n",
    "    P[[i,p_row+i]] = P[[p_row+i,i]] #interchange elements\n",
    "    Q[[i,p_col+i]] = Q[[p_col+i,i]] #interchange elements\n",
    "    LU[[i,p_row+i],:] = LU[[p_row+i,i],:] #interchange rows\n",
    "    LU[:,[i,p_col+i]] = LU[:,[p_col+i,i]] #interchange columns\n",
    "    \n",
    "    l = LU[i+1:n,i]/LU[i,i]\n",
    "    LU[i+1:n,i:n] = LU[i+1:n,i:n] - l*LU[i,i:n]\n",
    "    LU[i+1:n,i] = l\n",
    "    \n",
    "time.time() - t  "
   ]
  },
  {
   "cell_type": "code",
   "execution_count": 13,
   "metadata": {},
   "outputs": [
    {
     "data": {
      "text/plain": [
       "(2.0874413309002193e-12, 1.7280399333685637e-10)"
      ]
     },
     "execution_count": 13,
     "metadata": {},
     "output_type": "execute_result"
    }
   ],
   "source": [
    "U = np.triu(LU)\n",
    "L = np.tril(LU,k=-1)\n",
    "np.fill_diagonal(L, 1)\n",
    "\n",
    "b_LU = b[P]\n",
    "x = np.zeros((n,1));\n",
    "y = np.zeros((n,1));\n",
    "z = np.zeros((n,1));\n",
    "\n",
    "for i in range(0,n):\n",
    "    z[i] = b_LU[i] - np.inner(L[i,:],z.T)\n",
    " \n",
    "y[n-1] = z[n-1]/U[n-1,n-1] \n",
    "for i in range(n-2,-1,-1):\n",
    "    y[i] = (z[i] - np.inner(U[i,i+1:],y[i+1:].T))/U[i,i]\n",
    "\n",
    "I = np.eye(n,n)\n",
    "I = I[:,Q]\n",
    "x = I@y\n",
    "\n",
    "normi1 = np.linalg.norm(x-x_known,np.inf)\n",
    "normi2 = np.linalg.norm(A@x-b,np.inf)\n",
    "normi1, normi2"
   ]
  },
  {
   "cell_type": "code",
   "execution_count": null,
   "metadata": {},
   "outputs": [],
   "source": []
  },
  {
   "cell_type": "code",
   "execution_count": null,
   "metadata": {},
   "outputs": [],
   "source": []
  },
  {
   "cell_type": "code",
   "execution_count": null,
   "metadata": {},
   "outputs": [],
   "source": []
  },
  {
   "cell_type": "code",
   "execution_count": null,
   "metadata": {},
   "outputs": [],
   "source": []
  }
 ],
 "metadata": {
  "kernelspec": {
   "display_name": "Python 3",
   "language": "python",
   "name": "python3"
  },
  "language_info": {
   "codemirror_mode": {
    "name": "ipython",
    "version": 3
   },
   "file_extension": ".py",
   "mimetype": "text/x-python",
   "name": "python",
   "nbconvert_exporter": "python",
   "pygments_lexer": "ipython3",
   "version": "3.6.5"
  },
  "varInspector": {
   "cols": {
    "lenName": 16,
    "lenType": 16,
    "lenVar": 40
   },
   "kernels_config": {
    "python": {
     "delete_cmd_postfix": "",
     "delete_cmd_prefix": "del ",
     "library": "var_list.py",
     "varRefreshCmd": "print(var_dic_list())"
    },
    "r": {
     "delete_cmd_postfix": ") ",
     "delete_cmd_prefix": "rm(",
     "library": "var_list.r",
     "varRefreshCmd": "cat(var_dic_list()) "
    }
   },
   "position": {
    "height": "252px",
    "left": "746px",
    "right": "39px",
    "top": "15px",
    "width": "462px"
   },
   "types_to_exclude": [
    "module",
    "function",
    "builtin_function_or_method",
    "instance",
    "_Feature"
   ],
   "window_display": true
  }
 },
 "nbformat": 4,
 "nbformat_minor": 2
}
