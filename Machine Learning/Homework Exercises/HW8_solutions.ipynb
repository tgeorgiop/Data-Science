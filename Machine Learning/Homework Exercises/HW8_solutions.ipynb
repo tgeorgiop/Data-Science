{
 "cells": [
  {
   "cell_type": "code",
   "execution_count": 7,
   "metadata": {},
   "outputs": [],
   "source": [
    "import numpy as np\n",
    "import matplotlib.pyplot as plt\n",
    "from scipy.stats import multivariate_normal, norm\n",
    "from sklearn.neighbors import KNeighborsClassifier\n",
    "from sklearn.linear_model import LogisticRegression\n",
    "import scipy.io as sio"
   ]
  },
  {
   "cell_type": "code",
   "execution_count": 8,
   "metadata": {},
   "outputs": [
    {
     "data": {
      "image/png": "[encoded data removed]",
      "text/plain": [
       "<Figure size 432x288 with 6 Axes>"
      ]
     },
     "metadata": {
      "needs_background": "light"
     },
     "output_type": "display_data"
    }
   ],
   "source": [
    "def f(z,a):\n",
    "    return 1/(1+ np.exp(-a*z))\n",
    "\n",
    "z = np.arange(-5.0,5.0,0.5) \n",
    "a = [0,0.1,1,5,10,100]\n",
    "\n",
    "fig = plt.figure()\n",
    "plt.subplot(231); plt.plot(z, f(z,a[0])); plt.title('a= %s' %a[0])\n",
    "plt.subplot(232); plt.plot(z, f(z,a[1])); plt.title('a= %s' %a[1])\n",
    "plt.subplot(233); plt.plot(z, f(z,a[2])); plt.title('a= %s' %a[2])\n",
    "plt.subplot(234); plt.plot(z, f(z,a[3])); plt.title('a= %s' %a[3])\n",
    "plt.subplot(235); plt.plot(z, f(z,a[4])); plt.title('a= %s' %a[4])\n",
    "plt.subplot(236); plt.plot(z, f(z,a[5])); plt.title('a= %s' %a[5])\n",
    "plt.subplots_adjust(top=0.92, bottom=0.08, left=0.10, right=0.95, hspace=0.75, wspace=0.95)\n",
    "plt.show()"
   ]
  },
  {
   "cell_type": "markdown",
   "metadata": {},
   "source": [
    "## Exercise 3"
   ]
  },
  {
   "cell_type": "code",
   "execution_count": 9,
   "metadata": {},
   "outputs": [],
   "source": [
    "Dataset = sio.loadmat('HW8.mat')\n",
    "train_x = Dataset['train_x']\n",
    "train_y= Dataset['train_y']\n",
    "\n",
    "test_x = Dataset['test_x']\n",
    "test_y = Dataset['test_y']"
   ]
  },
  {
   "cell_type": "markdown",
   "metadata": {},
   "source": [
    "Visualize the data"
   ]
  },
  {
   "cell_type": "code",
   "execution_count": 10,
   "metadata": {},
   "outputs": [
    {
     "data": {
      "image/png": "[encoded data removed]",
      "text/plain": [
       "<Figure size 432x288 with 1 Axes>"
      ]
     },
     "metadata": {
      "needs_background": "light"
     },
     "output_type": "display_data"
    }
   ],
   "source": [
    "index_w1 = np.where(train_y==1)[0];\n",
    "index_w2 = np.where(train_y==2)[0];\n",
    "\n",
    "train_x_w1 = train_x[index_w1]\n",
    "train_x_w2 = train_x[index_w2]\n",
    "\n",
    "plt.scatter(train_x_w1[:,0],train_x_w1[:,1],marker='o',label='class 1')\n",
    "plt.scatter(train_x_w2[:,0],train_x_w2[:,1],marker='x',label='class 2')\n",
    "plt.legend()\n",
    "plt.show()"
   ]
  },
  {
   "cell_type": "markdown",
   "metadata": {},
   "source": [
    "### (a) Bayes classifier"
   ]
  },
  {
   "cell_type": "code",
   "execution_count": 11,
   "metadata": {},
   "outputs": [
    {
     "data": {
      "text/plain": [
       "(0.5, 0.5)"
      ]
     },
     "execution_count": 11,
     "metadata": {},
     "output_type": "execute_result"
    }
   ],
   "source": [
    "p_w1 = len(train_x_w1)/len(train_x)\n",
    "p_w2 = len(train_x_w2)/len(train_x)\n",
    "p_w1, p_w2"
   ]
  },
  {
   "cell_type": "markdown",
   "metadata": {},
   "source": [
    "We model the distributions as normal"
   ]
  },
  {
   "cell_type": "code",
   "execution_count": 12,
   "metadata": {},
   "outputs": [],
   "source": [
    "p_x_w1 = multivariate_normal(np.mean(train_x_w1,axis=0),np.cov(train_x_w1,rowvar=False))\n",
    "p_x_w2 = multivariate_normal(np.mean(train_x_w2,axis=0),np.cov(train_x_w2,rowvar=False))"
   ]
  },
  {
   "cell_type": "markdown",
   "metadata": {},
   "source": [
    "We classify the test data"
   ]
  },
  {
   "cell_type": "code",
   "execution_count": 17,
   "metadata": {},
   "outputs": [],
   "source": [
    "scores_w1 = p_x_w1.pdf(test_x)*p_w1\n",
    "scores_w2 = p_x_w2.pdf(test_x)*p_w2\n",
    "scores = np.array([scores_w1,scores_w2]).T"
   ]
  },
  {
   "cell_type": "code",
   "execution_count": 20,
   "metadata": {},
   "outputs": [],
   "source": [
    "Btest_y = np.argmax(scores,axis=1) + 1;"
   ]
  },
  {
   "cell_type": "markdown",
   "metadata": {},
   "source": [
    "Estimate the error classification probability"
   ]
  },
  {
   "cell_type": "code",
   "execution_count": 21,
   "metadata": {},
   "outputs": [
    {
     "data": {
      "text/plain": [
       "0.15000000000000002"
      ]
     },
     "execution_count": 21,
     "metadata": {},
     "output_type": "execute_result"
    }
   ],
   "source": [
    "p_errorB = 1 - (np.sum(Btest_y[...,None]==test_y))/len(test_y); p_errorB"
   ]
  },
  {
   "cell_type": "markdown",
   "metadata": {},
   "source": [
    "### (b) Naive Bayes classifier"
   ]
  },
  {
   "cell_type": "markdown",
   "metadata": {},
   "source": [
    "Estimate the pdf of every feature vector"
   ]
  },
  {
   "cell_type": "code",
   "execution_count": 22,
   "metadata": {},
   "outputs": [],
   "source": [
    "p_x1_w1 = norm(np.mean(train_x_w1[:,0]),np.sqrt(np.var(train_x_w1[:,0])))\n",
    "p_x2_w1 = norm(np.mean(train_x_w1[:,1]),np.sqrt(np.var(train_x_w1[:,1])))\n",
    "\n",
    "p_x1_w2 = norm(np.mean(train_x_w2[:,0]),np.sqrt(np.var(train_x_w2[:,0])))\n",
    "p_x2_w2 = norm(np.mean(train_x_w2[:,1]),np.sqrt(np.var(train_x_w2[:,1])))"
   ]
  },
  {
   "cell_type": "markdown",
   "metadata": {},
   "source": [
    "We classify the test data"
   ]
  },
  {
   "cell_type": "code",
   "execution_count": 23,
   "metadata": {},
   "outputs": [],
   "source": [
    "scores_w1 = p_x1_w1.pdf(test_x[:,0])*p_x2_w1.pdf(test_x[:,1])\n",
    "scores_w2 = p_x1_w2.pdf(test_x[:,0])*p_x2_w2.pdf(test_x[:,1])\n",
    "scores = np.array([scores_w1,scores_w2]).T"
   ]
  },
  {
   "cell_type": "code",
   "execution_count": 24,
   "metadata": {},
   "outputs": [],
   "source": [
    "NBtest_y = np.argmax(scores,axis=1) + 1"
   ]
  },
  {
   "cell_type": "markdown",
   "metadata": {},
   "source": [
    "Estimate the error classification probability of Naive Bayes"
   ]
  },
  {
   "cell_type": "code",
   "execution_count": 25,
   "metadata": {},
   "outputs": [
    {
     "data": {
      "text/plain": [
       "0.16500000000000004"
      ]
     },
     "execution_count": 25,
     "metadata": {},
     "output_type": "execute_result"
    }
   ],
   "source": [
    "p_errorNB = 1 - (np.sum(NBtest_y[...,None]==test_y))/len(test_y); p_errorNB"
   ]
  },
  {
   "cell_type": "markdown",
   "metadata": {},
   "source": [
    "### (c) kNN classifier"
   ]
  },
  {
   "cell_type": "code",
   "execution_count": 26,
   "metadata": {},
   "outputs": [
    {
     "data": {
      "text/plain": [
       "KNeighborsClassifier(algorithm='auto', leaf_size=30, metric='minkowski',\n",
       "                     metric_params=None, n_jobs=None, n_neighbors=5, p=2,\n",
       "                     weights='uniform')"
      ]
     },
     "execution_count": 26,
     "metadata": {},
     "output_type": "execute_result"
    }
   ],
   "source": [
    "kNN = KNeighborsClassifier(n_neighbors=5)\n",
    "kNN.fit(train_x,np.ravel(train_y))"
   ]
  },
  {
   "cell_type": "code",
   "execution_count": 27,
   "metadata": {},
   "outputs": [],
   "source": [
    "kNNtest_y = kNN.predict(test_x)"
   ]
  },
  {
   "cell_type": "markdown",
   "metadata": {},
   "source": [
    "Estimate the error classification probability of kNN"
   ]
  },
  {
   "cell_type": "code",
   "execution_count": 28,
   "metadata": {},
   "outputs": [
    {
     "data": {
      "text/plain": [
       "0.17000000000000004"
      ]
     },
     "execution_count": 28,
     "metadata": {},
     "output_type": "execute_result"
    }
   ],
   "source": [
    "p_errorkNN = 1 - (np.sum(kNNtest_y[...,None]==test_y))/len(test_y); p_errorkNN"
   ]
  },
  {
   "cell_type": "markdown",
   "metadata": {},
   "source": [
    "### (d) Logistic Regression classifier"
   ]
  },
  {
   "cell_type": "code",
   "execution_count": 29,
   "metadata": {},
   "outputs": [
    {
     "data": {
      "text/plain": [
       "LogisticRegression(C=1.0, class_weight=None, dual=False, fit_intercept=True,\n",
       "                   intercept_scaling=1, l1_ratio=None, max_iter=100,\n",
       "                   multi_class='warn', n_jobs=None, penalty='l2',\n",
       "                   random_state=None, solver='lbfgs', tol=0.0001, verbose=0,\n",
       "                   warm_start=False)"
      ]
     },
     "execution_count": 29,
     "metadata": {},
     "output_type": "execute_result"
    }
   ],
   "source": [
    "logist = LogisticRegression(solver='lbfgs')\n",
    "logist.fit(train_x,np.ravel(train_y))"
   ]
  },
  {
   "cell_type": "code",
   "execution_count": 30,
   "metadata": {},
   "outputs": [],
   "source": [
    "logRegtest_y = logist.predict(test_x)"
   ]
  },
  {
   "cell_type": "markdown",
   "metadata": {},
   "source": [
    "Estimate the error classification probability of Logistic Regression"
   ]
  },
  {
   "cell_type": "code",
   "execution_count": 31,
   "metadata": {},
   "outputs": [
    {
     "data": {
      "text/plain": [
       "0.15500000000000003"
      ]
     },
     "execution_count": 31,
     "metadata": {},
     "output_type": "execute_result"
    }
   ],
   "source": [
    "p_errorLogReg = 1 - (np.sum(logRegtest_y[...,None]==test_y))/len(test_y); p_errorLogReg"
   ]
  }
 ],
 "metadata": {
  "kernelspec": {
   "display_name": "Python 3",
   "language": "python",
   "name": "python3"
  },
  "language_info": {
   "codemirror_mode": {
    "name": "ipython",
    "version": 3
   },
   "file_extension": ".py",
   "mimetype": "text/x-python",
   "name": "python",
   "nbconvert_exporter": "python",
   "pygments_lexer": "ipython3",
   "version": "3.7.3"
  }
 },
 "nbformat": 4,
 "nbformat_minor": 2
}
